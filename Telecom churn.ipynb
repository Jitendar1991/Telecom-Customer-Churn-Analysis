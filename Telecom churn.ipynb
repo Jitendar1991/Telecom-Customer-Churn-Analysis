{
 "cells": [
  {
   "cell_type": "code",
   "execution_count": 1,
   "id": "908f939a",
   "metadata": {},
   "outputs": [],
   "source": [
    "import pandas as pd\n",
    "import numpy as np\n",
    "import matplotlib.pyplot as plt\n",
    "import seaborn as sns\n",
    "%matplotlib inline"
   ]
  },
  {
   "cell_type": "code",
   "execution_count": 2,
   "id": "05266720",
   "metadata": {},
   "outputs": [],
   "source": [
    "import mysql.connector"
   ]
  },
  {
   "cell_type": "code",
   "execution_count": 3,
   "id": "0a2d412d",
   "metadata": {},
   "outputs": [],
   "source": [
    "conn=mysql.connector.connect(host=\"localhost\",user= \"root\",password=\"Jugalvyas@1991\",database=\"Telecom\")"
   ]
  },
  {
   "cell_type": "code",
   "execution_count": 4,
   "id": "cab77c98",
   "metadata": {},
   "outputs": [],
   "source": [
    "df=pd.read_sql_query(\"select * from Telco_Customer_Churn\",conn)"
   ]
  },
  {
   "cell_type": "code",
   "execution_count": 5,
   "id": "4184fc2e",
   "metadata": {},
   "outputs": [
    {
     "data": {
      "text/html": [
       "<div>\n",
       "<style scoped>\n",
       "    .dataframe tbody tr th:only-of-type {\n",
       "        vertical-align: middle;\n",
       "    }\n",
       "\n",
       "    .dataframe tbody tr th {\n",
       "        vertical-align: top;\n",
       "    }\n",
       "\n",
       "    .dataframe thead th {\n",
       "        text-align: right;\n",
       "    }\n",
       "</style>\n",
       "<table border=\"1\" class=\"dataframe\">\n",
       "  <thead>\n",
       "    <tr style=\"text-align: right;\">\n",
       "      <th></th>\n",
       "      <th>customerID</th>\n",
       "      <th>gender</th>\n",
       "      <th>SeniorCitizen</th>\n",
       "      <th>Partner</th>\n",
       "      <th>Dependents</th>\n",
       "      <th>tenure</th>\n",
       "      <th>PhoneService</th>\n",
       "      <th>MultipleLines</th>\n",
       "      <th>InternetService</th>\n",
       "      <th>OnlineSecurity</th>\n",
       "      <th>...</th>\n",
       "      <th>DeviceProtection</th>\n",
       "      <th>TechSupport</th>\n",
       "      <th>StreamingTV</th>\n",
       "      <th>StreamingMovies</th>\n",
       "      <th>Contract</th>\n",
       "      <th>PaperlessBilling</th>\n",
       "      <th>PaymentMethod</th>\n",
       "      <th>MonthlyCharges</th>\n",
       "      <th>TotalCharges</th>\n",
       "      <th>Churn</th>\n",
       "    </tr>\n",
       "  </thead>\n",
       "  <tbody>\n",
       "    <tr>\n",
       "      <th>0</th>\n",
       "      <td>7590-VHVEG</td>\n",
       "      <td>Female</td>\n",
       "      <td>0</td>\n",
       "      <td>Yes</td>\n",
       "      <td>No</td>\n",
       "      <td>1</td>\n",
       "      <td>No</td>\n",
       "      <td>No phone service</td>\n",
       "      <td>DSL</td>\n",
       "      <td>No</td>\n",
       "      <td>...</td>\n",
       "      <td>No</td>\n",
       "      <td>No</td>\n",
       "      <td>No</td>\n",
       "      <td>No</td>\n",
       "      <td>Month-to-month</td>\n",
       "      <td>Yes</td>\n",
       "      <td>Electronic check</td>\n",
       "      <td>29.85</td>\n",
       "      <td>29.85</td>\n",
       "      <td>No</td>\n",
       "    </tr>\n",
       "    <tr>\n",
       "      <th>1</th>\n",
       "      <td>5575-GNVDE</td>\n",
       "      <td>Male</td>\n",
       "      <td>0</td>\n",
       "      <td>No</td>\n",
       "      <td>No</td>\n",
       "      <td>34</td>\n",
       "      <td>Yes</td>\n",
       "      <td>No</td>\n",
       "      <td>DSL</td>\n",
       "      <td>Yes</td>\n",
       "      <td>...</td>\n",
       "      <td>Yes</td>\n",
       "      <td>No</td>\n",
       "      <td>No</td>\n",
       "      <td>No</td>\n",
       "      <td>One year</td>\n",
       "      <td>No</td>\n",
       "      <td>Mailed check</td>\n",
       "      <td>56.95</td>\n",
       "      <td>1889.50</td>\n",
       "      <td>No</td>\n",
       "    </tr>\n",
       "    <tr>\n",
       "      <th>2</th>\n",
       "      <td>3668-QPYBK</td>\n",
       "      <td>Male</td>\n",
       "      <td>0</td>\n",
       "      <td>No</td>\n",
       "      <td>No</td>\n",
       "      <td>2</td>\n",
       "      <td>Yes</td>\n",
       "      <td>No</td>\n",
       "      <td>DSL</td>\n",
       "      <td>Yes</td>\n",
       "      <td>...</td>\n",
       "      <td>No</td>\n",
       "      <td>No</td>\n",
       "      <td>No</td>\n",
       "      <td>No</td>\n",
       "      <td>Month-to-month</td>\n",
       "      <td>Yes</td>\n",
       "      <td>Mailed check</td>\n",
       "      <td>53.85</td>\n",
       "      <td>108.15</td>\n",
       "      <td>Yes</td>\n",
       "    </tr>\n",
       "    <tr>\n",
       "      <th>3</th>\n",
       "      <td>7795-CFOCW</td>\n",
       "      <td>Male</td>\n",
       "      <td>0</td>\n",
       "      <td>No</td>\n",
       "      <td>No</td>\n",
       "      <td>45</td>\n",
       "      <td>No</td>\n",
       "      <td>No phone service</td>\n",
       "      <td>DSL</td>\n",
       "      <td>Yes</td>\n",
       "      <td>...</td>\n",
       "      <td>Yes</td>\n",
       "      <td>Yes</td>\n",
       "      <td>No</td>\n",
       "      <td>No</td>\n",
       "      <td>One year</td>\n",
       "      <td>No</td>\n",
       "      <td>Bank transfer (automatic)</td>\n",
       "      <td>42.30</td>\n",
       "      <td>1840.75</td>\n",
       "      <td>No</td>\n",
       "    </tr>\n",
       "    <tr>\n",
       "      <th>4</th>\n",
       "      <td>9237-HQITU</td>\n",
       "      <td>Female</td>\n",
       "      <td>0</td>\n",
       "      <td>No</td>\n",
       "      <td>No</td>\n",
       "      <td>2</td>\n",
       "      <td>Yes</td>\n",
       "      <td>No</td>\n",
       "      <td>Fiber optic</td>\n",
       "      <td>No</td>\n",
       "      <td>...</td>\n",
       "      <td>No</td>\n",
       "      <td>No</td>\n",
       "      <td>No</td>\n",
       "      <td>No</td>\n",
       "      <td>Month-to-month</td>\n",
       "      <td>Yes</td>\n",
       "      <td>Electronic check</td>\n",
       "      <td>70.70</td>\n",
       "      <td>151.65</td>\n",
       "      <td>Yes</td>\n",
       "    </tr>\n",
       "  </tbody>\n",
       "</table>\n",
       "<p>5 rows × 21 columns</p>\n",
       "</div>"
      ],
      "text/plain": [
       "   customerID  gender  SeniorCitizen Partner Dependents  tenure PhoneService  \\\n",
       "0  7590-VHVEG  Female              0     Yes         No       1           No   \n",
       "1  5575-GNVDE    Male              0      No         No      34          Yes   \n",
       "2  3668-QPYBK    Male              0      No         No       2          Yes   \n",
       "3  7795-CFOCW    Male              0      No         No      45           No   \n",
       "4  9237-HQITU  Female              0      No         No       2          Yes   \n",
       "\n",
       "      MultipleLines InternetService OnlineSecurity  ... DeviceProtection  \\\n",
       "0  No phone service             DSL             No  ...               No   \n",
       "1                No             DSL            Yes  ...              Yes   \n",
       "2                No             DSL            Yes  ...               No   \n",
       "3  No phone service             DSL            Yes  ...              Yes   \n",
       "4                No     Fiber optic             No  ...               No   \n",
       "\n",
       "  TechSupport StreamingTV StreamingMovies        Contract PaperlessBilling  \\\n",
       "0          No          No              No  Month-to-month              Yes   \n",
       "1          No          No              No        One year               No   \n",
       "2          No          No              No  Month-to-month              Yes   \n",
       "3         Yes          No              No        One year               No   \n",
       "4          No          No              No  Month-to-month              Yes   \n",
       "\n",
       "               PaymentMethod MonthlyCharges  TotalCharges  Churn  \n",
       "0           Electronic check          29.85         29.85     No  \n",
       "1               Mailed check          56.95       1889.50     No  \n",
       "2               Mailed check          53.85        108.15    Yes  \n",
       "3  Bank transfer (automatic)          42.30       1840.75     No  \n",
       "4           Electronic check          70.70        151.65    Yes  \n",
       "\n",
       "[5 rows x 21 columns]"
      ]
     },
     "execution_count": 5,
     "metadata": {},
     "output_type": "execute_result"
    }
   ],
   "source": [
    "df.head()"
   ]
  },
  {
   "cell_type": "code",
   "execution_count": 6,
   "id": "e5a9934b",
   "metadata": {},
   "outputs": [
    {
     "data": {
      "text/plain": [
       "(7043, 21)"
      ]
     },
     "execution_count": 6,
     "metadata": {},
     "output_type": "execute_result"
    }
   ],
   "source": [
    "df.shape"
   ]
  },
  {
   "cell_type": "code",
   "execution_count": 7,
   "id": "c970d221",
   "metadata": {},
   "outputs": [
    {
     "name": "stdout",
     "output_type": "stream",
     "text": [
      "<class 'pandas.core.frame.DataFrame'>\n",
      "RangeIndex: 7043 entries, 0 to 7042\n",
      "Data columns (total 21 columns):\n",
      " #   Column            Non-Null Count  Dtype  \n",
      "---  ------            --------------  -----  \n",
      " 0   customerID        7043 non-null   object \n",
      " 1   gender            7043 non-null   object \n",
      " 2   SeniorCitizen     7043 non-null   int64  \n",
      " 3   Partner           7043 non-null   object \n",
      " 4   Dependents        7043 non-null   object \n",
      " 5   tenure            7043 non-null   int64  \n",
      " 6   PhoneService      7043 non-null   object \n",
      " 7   MultipleLines     7043 non-null   object \n",
      " 8   InternetService   7043 non-null   object \n",
      " 9   OnlineSecurity    7043 non-null   object \n",
      " 10  OnlineBackup      7043 non-null   object \n",
      " 11  DeviceProtection  7043 non-null   object \n",
      " 12  TechSupport       7043 non-null   object \n",
      " 13  StreamingTV       7043 non-null   object \n",
      " 14  StreamingMovies   7043 non-null   object \n",
      " 15  Contract          7043 non-null   object \n",
      " 16  PaperlessBilling  7043 non-null   object \n",
      " 17  PaymentMethod     7043 non-null   object \n",
      " 18  MonthlyCharges    7043 non-null   float64\n",
      " 19  TotalCharges      7043 non-null   float64\n",
      " 20  Churn             7043 non-null   object \n",
      "dtypes: float64(2), int64(2), object(17)\n",
      "memory usage: 1.1+ MB\n"
     ]
    }
   ],
   "source": [
    "df.info()# data types and also we can see no null value in our data"
   ]
  },
  {
   "cell_type": "code",
   "execution_count": 8,
   "id": "ae4fc60f",
   "metadata": {},
   "outputs": [
    {
     "data": {
      "text/html": [
       "<div>\n",
       "<style scoped>\n",
       "    .dataframe tbody tr th:only-of-type {\n",
       "        vertical-align: middle;\n",
       "    }\n",
       "\n",
       "    .dataframe tbody tr th {\n",
       "        vertical-align: top;\n",
       "    }\n",
       "\n",
       "    .dataframe thead th {\n",
       "        text-align: right;\n",
       "    }\n",
       "</style>\n",
       "<table border=\"1\" class=\"dataframe\">\n",
       "  <thead>\n",
       "    <tr style=\"text-align: right;\">\n",
       "      <th></th>\n",
       "      <th>customerID</th>\n",
       "      <th>gender</th>\n",
       "      <th>SeniorCitizen</th>\n",
       "      <th>Partner</th>\n",
       "      <th>Dependents</th>\n",
       "      <th>tenure</th>\n",
       "      <th>PhoneService</th>\n",
       "      <th>MultipleLines</th>\n",
       "      <th>InternetService</th>\n",
       "      <th>OnlineSecurity</th>\n",
       "      <th>...</th>\n",
       "      <th>DeviceProtection</th>\n",
       "      <th>TechSupport</th>\n",
       "      <th>StreamingTV</th>\n",
       "      <th>StreamingMovies</th>\n",
       "      <th>Contract</th>\n",
       "      <th>PaperlessBilling</th>\n",
       "      <th>PaymentMethod</th>\n",
       "      <th>MonthlyCharges</th>\n",
       "      <th>TotalCharges</th>\n",
       "      <th>Churn</th>\n",
       "    </tr>\n",
       "  </thead>\n",
       "  <tbody>\n",
       "    <tr>\n",
       "      <th>0</th>\n",
       "      <td>7590-VHVEG</td>\n",
       "      <td>Female</td>\n",
       "      <td>0</td>\n",
       "      <td>Yes</td>\n",
       "      <td>No</td>\n",
       "      <td>1</td>\n",
       "      <td>No</td>\n",
       "      <td>No phone service</td>\n",
       "      <td>DSL</td>\n",
       "      <td>No</td>\n",
       "      <td>...</td>\n",
       "      <td>No</td>\n",
       "      <td>No</td>\n",
       "      <td>No</td>\n",
       "      <td>No</td>\n",
       "      <td>Month-to-month</td>\n",
       "      <td>Yes</td>\n",
       "      <td>Electronic check</td>\n",
       "      <td>29.85</td>\n",
       "      <td>29.85</td>\n",
       "      <td>No</td>\n",
       "    </tr>\n",
       "    <tr>\n",
       "      <th>1</th>\n",
       "      <td>5575-GNVDE</td>\n",
       "      <td>Male</td>\n",
       "      <td>0</td>\n",
       "      <td>No</td>\n",
       "      <td>No</td>\n",
       "      <td>34</td>\n",
       "      <td>Yes</td>\n",
       "      <td>No</td>\n",
       "      <td>DSL</td>\n",
       "      <td>Yes</td>\n",
       "      <td>...</td>\n",
       "      <td>Yes</td>\n",
       "      <td>No</td>\n",
       "      <td>No</td>\n",
       "      <td>No</td>\n",
       "      <td>One year</td>\n",
       "      <td>No</td>\n",
       "      <td>Mailed check</td>\n",
       "      <td>56.95</td>\n",
       "      <td>1889.50</td>\n",
       "      <td>No</td>\n",
       "    </tr>\n",
       "    <tr>\n",
       "      <th>2</th>\n",
       "      <td>3668-QPYBK</td>\n",
       "      <td>Male</td>\n",
       "      <td>0</td>\n",
       "      <td>No</td>\n",
       "      <td>No</td>\n",
       "      <td>2</td>\n",
       "      <td>Yes</td>\n",
       "      <td>No</td>\n",
       "      <td>DSL</td>\n",
       "      <td>Yes</td>\n",
       "      <td>...</td>\n",
       "      <td>No</td>\n",
       "      <td>No</td>\n",
       "      <td>No</td>\n",
       "      <td>No</td>\n",
       "      <td>Month-to-month</td>\n",
       "      <td>Yes</td>\n",
       "      <td>Mailed check</td>\n",
       "      <td>53.85</td>\n",
       "      <td>108.15</td>\n",
       "      <td>Yes</td>\n",
       "    </tr>\n",
       "    <tr>\n",
       "      <th>3</th>\n",
       "      <td>7795-CFOCW</td>\n",
       "      <td>Male</td>\n",
       "      <td>0</td>\n",
       "      <td>No</td>\n",
       "      <td>No</td>\n",
       "      <td>45</td>\n",
       "      <td>No</td>\n",
       "      <td>No phone service</td>\n",
       "      <td>DSL</td>\n",
       "      <td>Yes</td>\n",
       "      <td>...</td>\n",
       "      <td>Yes</td>\n",
       "      <td>Yes</td>\n",
       "      <td>No</td>\n",
       "      <td>No</td>\n",
       "      <td>One year</td>\n",
       "      <td>No</td>\n",
       "      <td>Bank transfer (automatic)</td>\n",
       "      <td>42.30</td>\n",
       "      <td>1840.75</td>\n",
       "      <td>No</td>\n",
       "    </tr>\n",
       "    <tr>\n",
       "      <th>4</th>\n",
       "      <td>9237-HQITU</td>\n",
       "      <td>Female</td>\n",
       "      <td>0</td>\n",
       "      <td>No</td>\n",
       "      <td>No</td>\n",
       "      <td>2</td>\n",
       "      <td>Yes</td>\n",
       "      <td>No</td>\n",
       "      <td>Fiber optic</td>\n",
       "      <td>No</td>\n",
       "      <td>...</td>\n",
       "      <td>No</td>\n",
       "      <td>No</td>\n",
       "      <td>No</td>\n",
       "      <td>No</td>\n",
       "      <td>Month-to-month</td>\n",
       "      <td>Yes</td>\n",
       "      <td>Electronic check</td>\n",
       "      <td>70.70</td>\n",
       "      <td>151.65</td>\n",
       "      <td>Yes</td>\n",
       "    </tr>\n",
       "  </tbody>\n",
       "</table>\n",
       "<p>5 rows × 21 columns</p>\n",
       "</div>"
      ],
      "text/plain": [
       "   customerID  gender  SeniorCitizen Partner Dependents  tenure PhoneService  \\\n",
       "0  7590-VHVEG  Female              0     Yes         No       1           No   \n",
       "1  5575-GNVDE    Male              0      No         No      34          Yes   \n",
       "2  3668-QPYBK    Male              0      No         No       2          Yes   \n",
       "3  7795-CFOCW    Male              0      No         No      45           No   \n",
       "4  9237-HQITU  Female              0      No         No       2          Yes   \n",
       "\n",
       "      MultipleLines InternetService OnlineSecurity  ... DeviceProtection  \\\n",
       "0  No phone service             DSL             No  ...               No   \n",
       "1                No             DSL            Yes  ...              Yes   \n",
       "2                No             DSL            Yes  ...               No   \n",
       "3  No phone service             DSL            Yes  ...              Yes   \n",
       "4                No     Fiber optic             No  ...               No   \n",
       "\n",
       "  TechSupport StreamingTV StreamingMovies        Contract PaperlessBilling  \\\n",
       "0          No          No              No  Month-to-month              Yes   \n",
       "1          No          No              No        One year               No   \n",
       "2          No          No              No  Month-to-month              Yes   \n",
       "3         Yes          No              No        One year               No   \n",
       "4          No          No              No  Month-to-month              Yes   \n",
       "\n",
       "               PaymentMethod MonthlyCharges  TotalCharges  Churn  \n",
       "0           Electronic check          29.85         29.85     No  \n",
       "1               Mailed check          56.95       1889.50     No  \n",
       "2               Mailed check          53.85        108.15    Yes  \n",
       "3  Bank transfer (automatic)          42.30       1840.75     No  \n",
       "4           Electronic check          70.70        151.65    Yes  \n",
       "\n",
       "[5 rows x 21 columns]"
      ]
     },
     "execution_count": 8,
     "metadata": {},
     "output_type": "execute_result"
    }
   ],
   "source": [
    "df.head()"
   ]
  },
  {
   "cell_type": "markdown",
   "id": "b4804153",
   "metadata": {},
   "source": [
    "## Exploratory Data Analysis"
   ]
  },
  {
   "cell_type": "code",
   "execution_count": 9,
   "id": "b2bb1056",
   "metadata": {},
   "outputs": [
    {
     "data": {
      "text/html": [
       "<div>\n",
       "<style scoped>\n",
       "    .dataframe tbody tr th:only-of-type {\n",
       "        vertical-align: middle;\n",
       "    }\n",
       "\n",
       "    .dataframe tbody tr th {\n",
       "        vertical-align: top;\n",
       "    }\n",
       "\n",
       "    .dataframe thead th {\n",
       "        text-align: right;\n",
       "    }\n",
       "</style>\n",
       "<table border=\"1\" class=\"dataframe\">\n",
       "  <thead>\n",
       "    <tr style=\"text-align: right;\">\n",
       "      <th></th>\n",
       "      <th>SeniorCitizen</th>\n",
       "      <th>tenure</th>\n",
       "      <th>MonthlyCharges</th>\n",
       "      <th>TotalCharges</th>\n",
       "    </tr>\n",
       "  </thead>\n",
       "  <tbody>\n",
       "    <tr>\n",
       "      <th>count</th>\n",
       "      <td>7043.000000</td>\n",
       "      <td>7043.000000</td>\n",
       "      <td>7043.000000</td>\n",
       "      <td>7043.000000</td>\n",
       "    </tr>\n",
       "    <tr>\n",
       "      <th>mean</th>\n",
       "      <td>0.162147</td>\n",
       "      <td>32.371149</td>\n",
       "      <td>64.761692</td>\n",
       "      <td>2279.734304</td>\n",
       "    </tr>\n",
       "    <tr>\n",
       "      <th>std</th>\n",
       "      <td>0.368612</td>\n",
       "      <td>24.559481</td>\n",
       "      <td>30.090047</td>\n",
       "      <td>2266.794470</td>\n",
       "    </tr>\n",
       "    <tr>\n",
       "      <th>min</th>\n",
       "      <td>0.000000</td>\n",
       "      <td>0.000000</td>\n",
       "      <td>18.250000</td>\n",
       "      <td>0.000000</td>\n",
       "    </tr>\n",
       "    <tr>\n",
       "      <th>25%</th>\n",
       "      <td>0.000000</td>\n",
       "      <td>9.000000</td>\n",
       "      <td>35.500000</td>\n",
       "      <td>398.550000</td>\n",
       "    </tr>\n",
       "    <tr>\n",
       "      <th>50%</th>\n",
       "      <td>0.000000</td>\n",
       "      <td>29.000000</td>\n",
       "      <td>70.350000</td>\n",
       "      <td>1394.550000</td>\n",
       "    </tr>\n",
       "    <tr>\n",
       "      <th>75%</th>\n",
       "      <td>0.000000</td>\n",
       "      <td>55.000000</td>\n",
       "      <td>89.850000</td>\n",
       "      <td>3786.600000</td>\n",
       "    </tr>\n",
       "    <tr>\n",
       "      <th>max</th>\n",
       "      <td>1.000000</td>\n",
       "      <td>72.000000</td>\n",
       "      <td>118.750000</td>\n",
       "      <td>8684.800000</td>\n",
       "    </tr>\n",
       "  </tbody>\n",
       "</table>\n",
       "</div>"
      ],
      "text/plain": [
       "       SeniorCitizen       tenure  MonthlyCharges  TotalCharges\n",
       "count    7043.000000  7043.000000     7043.000000   7043.000000\n",
       "mean        0.162147    32.371149       64.761692   2279.734304\n",
       "std         0.368612    24.559481       30.090047   2266.794470\n",
       "min         0.000000     0.000000       18.250000      0.000000\n",
       "25%         0.000000     9.000000       35.500000    398.550000\n",
       "50%         0.000000    29.000000       70.350000   1394.550000\n",
       "75%         0.000000    55.000000       89.850000   3786.600000\n",
       "max         1.000000    72.000000      118.750000   8684.800000"
      ]
     },
     "execution_count": 9,
     "metadata": {},
     "output_type": "execute_result"
    }
   ],
   "source": [
    "df.describe()"
   ]
  },
  {
   "cell_type": "code",
   "execution_count": 10,
   "id": "83b7e76b",
   "metadata": {},
   "outputs": [],
   "source": [
    "Numeric_col=df.select_dtypes(include=[\"int64\",\"float64\"]).columns"
   ]
  },
  {
   "cell_type": "code",
   "execution_count": 11,
   "id": "93bea73e",
   "metadata": {},
   "outputs": [
    {
     "data": {
      "text/plain": [
       "Index(['SeniorCitizen', 'tenure', 'MonthlyCharges', 'TotalCharges'], dtype='object')"
      ]
     },
     "execution_count": 11,
     "metadata": {},
     "output_type": "execute_result"
    }
   ],
   "source": [
    "Numeric_col"
   ]
  },
  {
   "cell_type": "markdown",
   "id": "c672d6d7",
   "metadata": {},
   "source": [
    "### Univarient & Bivarient analysis"
   ]
  },
  {
   "cell_type": "code",
   "execution_count": 12,
   "id": "04dbb2f4",
   "metadata": {},
   "outputs": [
    {
     "data": {
      "image/png": "[encoded data removed]",
      "text/plain": [
       "<Figure size 432x288 with 1 Axes>"
      ]
     },
     "metadata": {
      "needs_background": "light"
     },
     "output_type": "display_data"
    },
    {
     "data": {
      "image/png": "[encoded data removed]",
      "text/plain": [
       "<Figure size 432x288 with 1 Axes>"
      ]
     },
     "metadata": {
      "needs_background": "light"
     },
     "output_type": "display_data"
    },
    {
     "data": {
      "image/png": "[encoded data removed]",
      "text/plain": [
       "<Figure size 432x288 with 1 Axes>"
      ]
     },
     "metadata": {
      "needs_background": "light"
     },
     "output_type": "display_data"
    },
    {
     "data": {
      "image/png": "[encoded data removed]",
      "text/plain": [
       "<Figure size 432x288 with 1 Axes>"
      ]
     },
     "metadata": {
      "needs_background": "light"
     },
     "output_type": "display_data"
    }
   ],
   "source": [
    "#Analyzing Numerical features\n",
    "for col in Numeric_col:\n",
    "    sns.histplot(df[col])\n",
    "    plt.show()"
   ]
  },
  {
   "cell_type": "markdown",
   "id": "a03343ac",
   "metadata": {},
   "source": [
    "#SeniorCitizen -Around 1100 customer are senior and around 5900 customers are not Srcitizen\n",
    "\n",
    "#Tenure - Mostly customer tenure between 0-10 and 60-70\n",
    "\n",
    "#Monthly charges-Mostly customer monthly charges is below 100\n",
    "\n",
    "#Total Charegs-Mostly customer Total charges is below 2000"
   ]
  },
  {
   "cell_type": "code",
   "execution_count": 13,
   "id": "b8e38641",
   "metadata": {},
   "outputs": [
    {
     "name": "stderr",
     "output_type": "stream",
     "text": [
      "C:\\Users\\hp\\anaconda3\\lib\\site-packages\\seaborn\\_decorators.py:36: FutureWarning: Pass the following variable as a keyword arg: x. From version 0.12, the only valid positional argument will be `data`, and passing other arguments without an explicit keyword will result in an error or misinterpretation.\n",
      "  warnings.warn(\n"
     ]
    },
    {
     "data": {
      "image/png": "[encoded data removed]",
      "text/plain": [
       "<Figure size 432x288 with 1 Axes>"
      ]
     },
     "metadata": {
      "needs_background": "light"
     },
     "output_type": "display_data"
    },
    {
     "name": "stderr",
     "output_type": "stream",
     "text": [
      "C:\\Users\\hp\\anaconda3\\lib\\site-packages\\seaborn\\_decorators.py:36: FutureWarning: Pass the following variable as a keyword arg: x. From version 0.12, the only valid positional argument will be `data`, and passing other arguments without an explicit keyword will result in an error or misinterpretation.\n",
      "  warnings.warn(\n"
     ]
    },
    {
     "data": {
      "image/png": "[encoded data removed]",
      "text/plain": [
       "<Figure size 432x288 with 1 Axes>"
      ]
     },
     "metadata": {
      "needs_background": "light"
     },
     "output_type": "display_data"
    },
    {
     "name": "stderr",
     "output_type": "stream",
     "text": [
      "C:\\Users\\hp\\anaconda3\\lib\\site-packages\\seaborn\\_decorators.py:36: FutureWarning: Pass the following variable as a keyword arg: x. From version 0.12, the only valid positional argument will be `data`, and passing other arguments without an explicit keyword will result in an error or misinterpretation.\n",
      "  warnings.warn(\n"
     ]
    },
    {
     "data": {
      "image/png": "[encoded data removed]",
      "text/plain": [
       "<Figure size 432x288 with 1 Axes>"
      ]
     },
     "metadata": {
      "needs_background": "light"
     },
     "output_type": "display_data"
    },
    {
     "name": "stderr",
     "output_type": "stream",
     "text": [
      "C:\\Users\\hp\\anaconda3\\lib\\site-packages\\seaborn\\_decorators.py:36: FutureWarning: Pass the following variable as a keyword arg: x. From version 0.12, the only valid positional argument will be `data`, and passing other arguments without an explicit keyword will result in an error or misinterpretation.\n",
      "  warnings.warn(\n"
     ]
    },
    {
     "data": {
      "image/png": "[encoded data removed]",
      "text/plain": [
       "<Figure size 432x288 with 1 Axes>"
      ]
     },
     "metadata": {
      "needs_background": "light"
     },
     "output_type": "display_data"
    }
   ],
   "source": [
    "#Analyzing Numerical features\n",
    "for col in Numeric_col:\n",
    "    sns.boxplot(df[col])\n",
    "    plt.show()\n",
    "    \n",
    "# Senior Citizen is Numerical feature but its Categorical in nature"
   ]
  },
  {
   "cell_type": "markdown",
   "id": "777d14d5",
   "metadata": {},
   "source": [
    "## No Outlier  in data"
   ]
  },
  {
   "cell_type": "code",
   "execution_count": null,
   "id": "b4f394ad",
   "metadata": {},
   "outputs": [],
   "source": []
  },
  {
   "cell_type": "code",
   "execution_count": null,
   "id": "dd324b8a",
   "metadata": {},
   "outputs": [],
   "source": []
  },
  {
   "cell_type": "code",
   "execution_count": 14,
   "id": "14c76435",
   "metadata": {},
   "outputs": [
    {
     "data": {
      "text/html": [
       "<div>\n",
       "<style scoped>\n",
       "    .dataframe tbody tr th:only-of-type {\n",
       "        vertical-align: middle;\n",
       "    }\n",
       "\n",
       "    .dataframe tbody tr th {\n",
       "        vertical-align: top;\n",
       "    }\n",
       "\n",
       "    .dataframe thead th {\n",
       "        text-align: right;\n",
       "    }\n",
       "</style>\n",
       "<table border=\"1\" class=\"dataframe\">\n",
       "  <thead>\n",
       "    <tr style=\"text-align: right;\">\n",
       "      <th></th>\n",
       "      <th>customerID</th>\n",
       "      <th>gender</th>\n",
       "      <th>SeniorCitizen</th>\n",
       "      <th>Partner</th>\n",
       "      <th>Dependents</th>\n",
       "      <th>tenure</th>\n",
       "      <th>PhoneService</th>\n",
       "      <th>MultipleLines</th>\n",
       "      <th>InternetService</th>\n",
       "      <th>OnlineSecurity</th>\n",
       "      <th>...</th>\n",
       "      <th>DeviceProtection</th>\n",
       "      <th>TechSupport</th>\n",
       "      <th>StreamingTV</th>\n",
       "      <th>StreamingMovies</th>\n",
       "      <th>Contract</th>\n",
       "      <th>PaperlessBilling</th>\n",
       "      <th>PaymentMethod</th>\n",
       "      <th>MonthlyCharges</th>\n",
       "      <th>TotalCharges</th>\n",
       "      <th>Churn</th>\n",
       "    </tr>\n",
       "  </thead>\n",
       "  <tbody>\n",
       "    <tr>\n",
       "      <th>0</th>\n",
       "      <td>7590-VHVEG</td>\n",
       "      <td>Female</td>\n",
       "      <td>0</td>\n",
       "      <td>Yes</td>\n",
       "      <td>No</td>\n",
       "      <td>1</td>\n",
       "      <td>No</td>\n",
       "      <td>No phone service</td>\n",
       "      <td>DSL</td>\n",
       "      <td>No</td>\n",
       "      <td>...</td>\n",
       "      <td>No</td>\n",
       "      <td>No</td>\n",
       "      <td>No</td>\n",
       "      <td>No</td>\n",
       "      <td>Month-to-month</td>\n",
       "      <td>Yes</td>\n",
       "      <td>Electronic check</td>\n",
       "      <td>29.85</td>\n",
       "      <td>29.85</td>\n",
       "      <td>No</td>\n",
       "    </tr>\n",
       "    <tr>\n",
       "      <th>1</th>\n",
       "      <td>5575-GNVDE</td>\n",
       "      <td>Male</td>\n",
       "      <td>0</td>\n",
       "      <td>No</td>\n",
       "      <td>No</td>\n",
       "      <td>34</td>\n",
       "      <td>Yes</td>\n",
       "      <td>No</td>\n",
       "      <td>DSL</td>\n",
       "      <td>Yes</td>\n",
       "      <td>...</td>\n",
       "      <td>Yes</td>\n",
       "      <td>No</td>\n",
       "      <td>No</td>\n",
       "      <td>No</td>\n",
       "      <td>One year</td>\n",
       "      <td>No</td>\n",
       "      <td>Mailed check</td>\n",
       "      <td>56.95</td>\n",
       "      <td>1889.50</td>\n",
       "      <td>No</td>\n",
       "    </tr>\n",
       "    <tr>\n",
       "      <th>2</th>\n",
       "      <td>3668-QPYBK</td>\n",
       "      <td>Male</td>\n",
       "      <td>0</td>\n",
       "      <td>No</td>\n",
       "      <td>No</td>\n",
       "      <td>2</td>\n",
       "      <td>Yes</td>\n",
       "      <td>No</td>\n",
       "      <td>DSL</td>\n",
       "      <td>Yes</td>\n",
       "      <td>...</td>\n",
       "      <td>No</td>\n",
       "      <td>No</td>\n",
       "      <td>No</td>\n",
       "      <td>No</td>\n",
       "      <td>Month-to-month</td>\n",
       "      <td>Yes</td>\n",
       "      <td>Mailed check</td>\n",
       "      <td>53.85</td>\n",
       "      <td>108.15</td>\n",
       "      <td>Yes</td>\n",
       "    </tr>\n",
       "    <tr>\n",
       "      <th>3</th>\n",
       "      <td>7795-CFOCW</td>\n",
       "      <td>Male</td>\n",
       "      <td>0</td>\n",
       "      <td>No</td>\n",
       "      <td>No</td>\n",
       "      <td>45</td>\n",
       "      <td>No</td>\n",
       "      <td>No phone service</td>\n",
       "      <td>DSL</td>\n",
       "      <td>Yes</td>\n",
       "      <td>...</td>\n",
       "      <td>Yes</td>\n",
       "      <td>Yes</td>\n",
       "      <td>No</td>\n",
       "      <td>No</td>\n",
       "      <td>One year</td>\n",
       "      <td>No</td>\n",
       "      <td>Bank transfer (automatic)</td>\n",
       "      <td>42.30</td>\n",
       "      <td>1840.75</td>\n",
       "      <td>No</td>\n",
       "    </tr>\n",
       "    <tr>\n",
       "      <th>4</th>\n",
       "      <td>9237-HQITU</td>\n",
       "      <td>Female</td>\n",
       "      <td>0</td>\n",
       "      <td>No</td>\n",
       "      <td>No</td>\n",
       "      <td>2</td>\n",
       "      <td>Yes</td>\n",
       "      <td>No</td>\n",
       "      <td>Fiber optic</td>\n",
       "      <td>No</td>\n",
       "      <td>...</td>\n",
       "      <td>No</td>\n",
       "      <td>No</td>\n",
       "      <td>No</td>\n",
       "      <td>No</td>\n",
       "      <td>Month-to-month</td>\n",
       "      <td>Yes</td>\n",
       "      <td>Electronic check</td>\n",
       "      <td>70.70</td>\n",
       "      <td>151.65</td>\n",
       "      <td>Yes</td>\n",
       "    </tr>\n",
       "  </tbody>\n",
       "</table>\n",
       "<p>5 rows × 21 columns</p>\n",
       "</div>"
      ],
      "text/plain": [
       "   customerID  gender  SeniorCitizen Partner Dependents  tenure PhoneService  \\\n",
       "0  7590-VHVEG  Female              0     Yes         No       1           No   \n",
       "1  5575-GNVDE    Male              0      No         No      34          Yes   \n",
       "2  3668-QPYBK    Male              0      No         No       2          Yes   \n",
       "3  7795-CFOCW    Male              0      No         No      45           No   \n",
       "4  9237-HQITU  Female              0      No         No       2          Yes   \n",
       "\n",
       "      MultipleLines InternetService OnlineSecurity  ... DeviceProtection  \\\n",
       "0  No phone service             DSL             No  ...               No   \n",
       "1                No             DSL            Yes  ...              Yes   \n",
       "2                No             DSL            Yes  ...               No   \n",
       "3  No phone service             DSL            Yes  ...              Yes   \n",
       "4                No     Fiber optic             No  ...               No   \n",
       "\n",
       "  TechSupport StreamingTV StreamingMovies        Contract PaperlessBilling  \\\n",
       "0          No          No              No  Month-to-month              Yes   \n",
       "1          No          No              No        One year               No   \n",
       "2          No          No              No  Month-to-month              Yes   \n",
       "3         Yes          No              No        One year               No   \n",
       "4          No          No              No  Month-to-month              Yes   \n",
       "\n",
       "               PaymentMethod MonthlyCharges  TotalCharges  Churn  \n",
       "0           Electronic check          29.85         29.85     No  \n",
       "1               Mailed check          56.95       1889.50     No  \n",
       "2               Mailed check          53.85        108.15    Yes  \n",
       "3  Bank transfer (automatic)          42.30       1840.75     No  \n",
       "4           Electronic check          70.70        151.65    Yes  \n",
       "\n",
       "[5 rows x 21 columns]"
      ]
     },
     "execution_count": 14,
     "metadata": {},
     "output_type": "execute_result"
    }
   ],
   "source": [
    "df.head()"
   ]
  },
  {
   "cell_type": "code",
   "execution_count": 15,
   "id": "ceea99fc",
   "metadata": {},
   "outputs": [
    {
     "data": {
      "text/plain": [
       "No     5174\n",
       "Yes    1869\n",
       "Name: Churn, dtype: int64"
      ]
     },
     "execution_count": 15,
     "metadata": {},
     "output_type": "execute_result"
    }
   ],
   "source": [
    "df.Churn.value_counts()"
   ]
  },
  {
   "cell_type": "code",
   "execution_count": 16,
   "id": "61916f33",
   "metadata": {},
   "outputs": [
    {
     "data": {
      "text/plain": [
       "<AxesSubplot:xlabel='Churn', ylabel='Count'>"
      ]
     },
     "execution_count": 16,
     "metadata": {},
     "output_type": "execute_result"
    },
    {
     "data": {
      "image/png": "[encoded data removed]",
      "text/plain": [
       "<Figure size 432x288 with 1 Axes>"
      ]
     },
     "metadata": {
      "needs_background": "light"
     },
     "output_type": "display_data"
    }
   ],
   "source": [
    "sns.histplot(df.Churn)\n",
    "#its a imbalance data 5174 customers do not Churn and 1869 Customers Churn the Company"
   ]
  },
  {
   "cell_type": "code",
   "execution_count": 17,
   "id": "e4d02e15",
   "metadata": {},
   "outputs": [
    {
     "data": {
      "text/plain": [
       "Male      3555\n",
       "Female    3488\n",
       "Name: gender, dtype: int64"
      ]
     },
     "execution_count": 17,
     "metadata": {},
     "output_type": "execute_result"
    }
   ],
   "source": [
    "df.gender.value_counts()"
   ]
  },
  {
   "cell_type": "code",
   "execution_count": 18,
   "id": "4fad4860",
   "metadata": {},
   "outputs": [
    {
     "data": {
      "text/plain": [
       "<AxesSubplot:xlabel='gender', ylabel='Count'>"
      ]
     },
     "execution_count": 18,
     "metadata": {},
     "output_type": "execute_result"
    },
    {
     "data": {
      "image/png": "[encoded data removed]",
      "text/plain": [
       "<Figure size 432x288 with 1 Axes>"
      ]
     },
     "metadata": {
      "needs_background": "light"
     },
     "output_type": "display_data"
    }
   ],
   "source": [
    "sns.histplot(df.gender)\n",
    "#Count of male and female customers is almost equal"
   ]
  },
  {
   "cell_type": "code",
   "execution_count": 19,
   "id": "cbe9f1c9",
   "metadata": {},
   "outputs": [
    {
     "data": {
      "text/plain": [
       "Electronic check             2365\n",
       "Mailed check                 1612\n",
       "Bank transfer (automatic)    1544\n",
       "Credit card (automatic)      1522\n",
       "Name: PaymentMethod, dtype: int64"
      ]
     },
     "execution_count": 19,
     "metadata": {},
     "output_type": "execute_result"
    }
   ],
   "source": [
    "df.PaymentMethod.value_counts()"
   ]
  },
  {
   "cell_type": "code",
   "execution_count": 20,
   "id": "a0e7945a",
   "metadata": {},
   "outputs": [
    {
     "data": {
      "text/html": [
       "<div>\n",
       "<style scoped>\n",
       "    .dataframe tbody tr th:only-of-type {\n",
       "        vertical-align: middle;\n",
       "    }\n",
       "\n",
       "    .dataframe tbody tr th {\n",
       "        vertical-align: top;\n",
       "    }\n",
       "\n",
       "    .dataframe thead th {\n",
       "        text-align: right;\n",
       "    }\n",
       "</style>\n",
       "<table border=\"1\" class=\"dataframe\">\n",
       "  <thead>\n",
       "    <tr style=\"text-align: right;\">\n",
       "      <th>gender</th>\n",
       "      <th>Female</th>\n",
       "      <th>Male</th>\n",
       "    </tr>\n",
       "    <tr>\n",
       "      <th>Churn</th>\n",
       "      <th></th>\n",
       "      <th></th>\n",
       "    </tr>\n",
       "  </thead>\n",
       "  <tbody>\n",
       "    <tr>\n",
       "      <th>No</th>\n",
       "      <td>2549</td>\n",
       "      <td>2625</td>\n",
       "    </tr>\n",
       "    <tr>\n",
       "      <th>Yes</th>\n",
       "      <td>939</td>\n",
       "      <td>930</td>\n",
       "    </tr>\n",
       "  </tbody>\n",
       "</table>\n",
       "</div>"
      ],
      "text/plain": [
       "gender  Female  Male\n",
       "Churn               \n",
       "No        2549  2625\n",
       "Yes        939   930"
      ]
     },
     "execution_count": 20,
     "metadata": {},
     "output_type": "execute_result"
    }
   ],
   "source": [
    "#Analysing Categorical Features\n",
    "pd.crosstab(df.Churn,df.gender)"
   ]
  },
  {
   "cell_type": "code",
   "execution_count": null,
   "id": "b34acbad",
   "metadata": {},
   "outputs": [],
   "source": []
  },
  {
   "cell_type": "code",
   "execution_count": 21,
   "id": "3fa4bff0",
   "metadata": {},
   "outputs": [
    {
     "data": {
      "text/plain": [
       "<AxesSubplot:xlabel='Churn'>"
      ]
     },
     "execution_count": 21,
     "metadata": {},
     "output_type": "execute_result"
    },
    {
     "data": {
      "image/png": "[encoded data removed]",
      "text/plain": [
       "<Figure size 432x288 with 1 Axes>"
      ]
     },
     "metadata": {
      "needs_background": "light"
     },
     "output_type": "display_data"
    }
   ],
   "source": [
    "pd.crosstab(df.Churn,df.gender).plot(kind=\"bar\")"
   ]
  },
  {
   "cell_type": "code",
   "execution_count": 22,
   "id": "d849a26a",
   "metadata": {},
   "outputs": [
    {
     "data": {
      "text/plain": [
       "<AxesSubplot:xlabel='Churn'>"
      ]
     },
     "execution_count": 22,
     "metadata": {},
     "output_type": "execute_result"
    },
    {
     "data": {
      "image/png": "[encoded data removed]",
      "text/plain": [
       "<Figure size 432x288 with 1 Axes>"
      ]
     },
     "metadata": {
      "needs_background": "light"
     },
     "output_type": "display_data"
    }
   ],
   "source": [
    "\n",
    "\n",
    "pd.crosstab(df.Churn,df.PaymentMethod).plot(kind=\"bar\")\n",
    "\n",
    "#Maximum People Who churn had  payment Method \"Electronic Check\""
   ]
  },
  {
   "cell_type": "code",
   "execution_count": 23,
   "id": "4bd8e8fb",
   "metadata": {},
   "outputs": [
    {
     "data": {
      "text/plain": [
       "<AxesSubplot:xlabel='Churn'>"
      ]
     },
     "execution_count": 23,
     "metadata": {},
     "output_type": "execute_result"
    },
    {
     "data": {
      "image/png": "[encoded data removed]",
      "text/plain": [
       "<Figure size 432x288 with 1 Axes>"
      ]
     },
     "metadata": {
      "needs_background": "light"
     },
     "output_type": "display_data"
    }
   ],
   "source": [
    "\n",
    "pd.crosstab(df.Churn,df.SeniorCitizen).plot(kind=\"bar\")\n",
    "#Customer Who Churn Mostly Not SenoirCitizen"
   ]
  },
  {
   "cell_type": "code",
   "execution_count": 24,
   "id": "5fe6355c",
   "metadata": {},
   "outputs": [
    {
     "data": {
      "text/plain": [
       "<AxesSubplot:xlabel='Churn'>"
      ]
     },
     "execution_count": 24,
     "metadata": {},
     "output_type": "execute_result"
    },
    {
     "data": {
      "image/png": "[encoded data removed]",
      "text/plain": [
       "<Figure size 432x288 with 1 Axes>"
      ]
     },
     "metadata": {
      "needs_background": "light"
     },
     "output_type": "display_data"
    }
   ],
   "source": [
    "pd.crosstab(df.Churn,df.PhoneService).plot(kind=\"bar\")\n",
    "#Mostly Customers Who Churn the Company have phone Services"
   ]
  },
  {
   "cell_type": "code",
   "execution_count": 25,
   "id": "b9b9e220",
   "metadata": {},
   "outputs": [
    {
     "data": {
      "text/plain": [
       "<AxesSubplot:xlabel='Churn'>"
      ]
     },
     "execution_count": 25,
     "metadata": {},
     "output_type": "execute_result"
    },
    {
     "data": {
      "image/png": "[encoded data removed]",
      "text/plain": [
       "<Figure size 432x288 with 1 Axes>"
      ]
     },
     "metadata": {
      "needs_background": "light"
     },
     "output_type": "display_data"
    }
   ],
   "source": [
    "pd.crosstab(df.Churn,df.InternetService).plot(kind=\"bar\")\n",
    "#Mostly Customers Who Churn the Company have Fiber Optic Internet Services"
   ]
  },
  {
   "cell_type": "code",
   "execution_count": 26,
   "id": "4e193efd",
   "metadata": {},
   "outputs": [],
   "source": [
    "Categorical_col=df.select_dtypes(include=[\"O\"]).columns"
   ]
  },
  {
   "cell_type": "code",
   "execution_count": 27,
   "id": "e5bab52e",
   "metadata": {},
   "outputs": [
    {
     "data": {
      "text/plain": [
       "Index(['customerID', 'gender', 'Partner', 'Dependents', 'PhoneService',\n",
       "       'MultipleLines', 'InternetService', 'OnlineSecurity', 'OnlineBackup',\n",
       "       'DeviceProtection', 'TechSupport', 'StreamingTV', 'StreamingMovies',\n",
       "       'Contract', 'PaperlessBilling', 'PaymentMethod', 'Churn'],\n",
       "      dtype='object')"
      ]
     },
     "execution_count": 27,
     "metadata": {},
     "output_type": "execute_result"
    }
   ],
   "source": [
    "Categorical_col"
   ]
  },
  {
   "cell_type": "code",
   "execution_count": 28,
   "id": "408e76f7",
   "metadata": {},
   "outputs": [],
   "source": [
    "Categorical_col=Categorical_col.drop(\"customerID\")"
   ]
  },
  {
   "cell_type": "code",
   "execution_count": 29,
   "id": "85aae2b3",
   "metadata": {},
   "outputs": [
    {
     "data": {
      "text/plain": [
       "Index(['gender', 'Partner', 'Dependents', 'PhoneService', 'MultipleLines',\n",
       "       'InternetService', 'OnlineSecurity', 'OnlineBackup', 'DeviceProtection',\n",
       "       'TechSupport', 'StreamingTV', 'StreamingMovies', 'Contract',\n",
       "       'PaperlessBilling', 'PaymentMethod', 'Churn'],\n",
       "      dtype='object')"
      ]
     },
     "execution_count": 29,
     "metadata": {},
     "output_type": "execute_result"
    }
   ],
   "source": [
    "Categorical_col"
   ]
  },
  {
   "cell_type": "code",
   "execution_count": 30,
   "id": "65262b45",
   "metadata": {},
   "outputs": [
    {
     "data": {
      "image/png": "[encoded data removed]",
      "text/plain": [
       "<Figure size 432x288 with 1 Axes>"
      ]
     },
     "metadata": {
      "needs_background": "light"
     },
     "output_type": "display_data"
    },
    {
     "data": {
      "image/png": "[encoded data removed]",
      "text/plain": [
       "<Figure size 432x288 with 1 Axes>"
      ]
     },
     "metadata": {
      "needs_background": "light"
     },
     "output_type": "display_data"
    },
    {
     "data": {
      "image/png": "[encoded data removed]",
      "text/plain": [
       "<Figure size 432x288 with 1 Axes>"
      ]
     },
     "metadata": {
      "needs_background": "light"
     },
     "output_type": "display_data"
    },
    {
     "data": {
      "image/png": "[encoded data removed]",
      "text/plain": [
       "<Figure size 432x288 with 1 Axes>"
      ]
     },
     "metadata": {
      "needs_background": "light"
     },
     "output_type": "display_data"
    },
    {
     "data": {
      "image/png": "[encoded data removed]",
      "text/plain": [
       "<Figure size 432x288 with 1 Axes>"
      ]
     },
     "metadata": {
      "needs_background": "light"
     },
     "output_type": "display_data"
    },
    {
     "data": {
      "image/png": "[encoded data removed]",
      "text/plain": [
       "<Figure size 432x288 with 1 Axes>"
      ]
     },
     "metadata": {
      "needs_background": "light"
     },
     "output_type": "display_data"
    },
    {
     "data": {
      "image/png": "[encoded data removed]",
      "text/plain": [
       "<Figure size 432x288 with 1 Axes>"
      ]
     },
     "metadata": {
      "needs_background": "light"
     },
     "output_type": "display_data"
    },
    {
     "data": {
      "image/png": "[encoded data removed]",
      "text/plain": [
       "<Figure size 432x288 with 1 Axes>"
      ]
     },
     "metadata": {
      "needs_background": "light"
     },
     "output_type": "display_data"
    },
    {
     "data": {
      "image/png": "[encoded data removed]",
      "text/plain": [
       "<Figure size 432x288 with 1 Axes>"
      ]
     },
     "metadata": {
      "needs_background": "light"
     },
     "output_type": "display_data"
    },
    {
     "data": {
      "image/png": "[encoded data removed]",
      "text/plain": [
       "<Figure size 432x288 with 1 Axes>"
      ]
     },
     "metadata": {
      "needs_background": "light"
     },
     "output_type": "display_data"
    },
    {
     "data": {
      "image/png": "[encoded data removed]",
      "text/plain": [
       "<Figure size 432x288 with 1 Axes>"
      ]
     },
     "metadata": {
      "needs_background": "light"
     },
     "output_type": "display_data"
    },
    {
     "data": {
      "image/png": "[encoded data removed]",
      "text/plain": [
       "<Figure size 432x288 with 1 Axes>"
      ]
     },
     "metadata": {
      "needs_background": "light"
     },
     "output_type": "display_data"
    },
    {
     "data": {
      "image/png": "[encoded data removed]",
      "text/plain": [
       "<Figure size 432x288 with 1 Axes>"
      ]
     },
     "metadata": {
      "needs_background": "light"
     },
     "output_type": "display_data"
    },
    {
     "data": {
      "image/png": "[encoded data removed]",
      "text/plain": [
       "<Figure size 432x288 with 1 Axes>"
      ]
     },
     "metadata": {
      "needs_background": "light"
     },
     "output_type": "display_data"
    },
    {
     "data": {
      "image/png": "[encoded data removed]",
      "text/plain": [
       "<Figure size 432x288 with 1 Axes>"
      ]
     },
     "metadata": {
      "needs_background": "light"
     },
     "output_type": "display_data"
    },
    {
     "data": {
      "image/png": "[encoded data removed]",
      "text/plain": [
       "<Figure size 432x288 with 1 Axes>"
      ]
     },
     "metadata": {
      "needs_background": "light"
     },
     "output_type": "display_data"
    }
   ],
   "source": [
    "for col in Categorical_col:\n",
    "    pd.crosstab(df.Churn,df[col]).plot(kind=\"bar\")\n",
    "    plt.show()\n",
    "\n",
    "    #We can Analyse All Categorical variable with target variable churn "
   ]
  },
  {
   "cell_type": "markdown",
   "id": "cd108574",
   "metadata": {},
   "source": [
    "## Inferential Statics---Hypothesis testing"
   ]
  },
  {
   "cell_type": "code",
   "execution_count": 31,
   "id": "c40db80b",
   "metadata": {},
   "outputs": [
    {
     "data": {
      "text/plain": [
       "Churn\n",
       "No     2549.911442\n",
       "Yes    1531.796094\n",
       "Name: TotalCharges, dtype: float64"
      ]
     },
     "execution_count": 31,
     "metadata": {},
     "output_type": "execute_result"
    }
   ],
   "source": [
    "#Inferential Statics---Hypothesis testing\n",
    "#TEST Null Average totalCharges of Churn yes/nO are Equal\n",
    "df.TotalCharges.groupby(df.Churn).mean()\n"
   ]
  },
  {
   "cell_type": "code",
   "execution_count": 32,
   "id": "6244a404",
   "metadata": {},
   "outputs": [],
   "source": [
    "#H0 Null Hypothesis-There is No significant difference in average of Tatalcharges for Churn yes or no\n",
    "#HA Alternate Hypothesis Hypothesis-There is significant difference in average of Tatalcharges for Churn yes or no"
   ]
  },
  {
   "cell_type": "code",
   "execution_count": 33,
   "id": "09bd521b",
   "metadata": {},
   "outputs": [],
   "source": [
    "#Sience there is exactly two levels in churn so we do 2 Independent sample T test\n",
    "from scipy.stats import ttest_ind\n"
   ]
  },
  {
   "cell_type": "code",
   "execution_count": 34,
   "id": "8d7f5fc8",
   "metadata": {},
   "outputs": [
    {
     "name": "stdout",
     "output_type": "stream",
     "text": [
      "(5174, 21)\n",
      "(1869, 21)\n"
     ]
    }
   ],
   "source": [
    "#We need to Split the data\n",
    "dfchurnNo=df[df.Churn==\"No\"]\n",
    "dfchurnYes=df[df.Churn==\"Yes\"]\n",
    "print(dfchurnNo.shape)\n",
    "print(dfchurnYes.shape)"
   ]
  },
  {
   "cell_type": "code",
   "execution_count": 35,
   "id": "0df40b00",
   "metadata": {},
   "outputs": [
    {
     "data": {
      "text/plain": [
       "Ttest_indResult(statistic=18.706618288177044, pvalue=5.902580609072126e-75)"
      ]
     },
     "execution_count": 35,
     "metadata": {},
     "output_type": "execute_result"
    }
   ],
   "source": [
    "#Ttest\n",
    "ttest_ind(dfchurnNo.TotalCharges,dfchurnYes.TotalCharges,equal_var=False)\n",
    "#equal_var=\n",
    "#P value is less than 0.05 so we reject the Null hypothesis and we can say there is significant difference in average of\n",
    "#Total charges for churn classes"
   ]
  },
  {
   "cell_type": "code",
   "execution_count": 36,
   "id": "ad1a93cd",
   "metadata": {},
   "outputs": [
    {
     "data": {
      "text/plain": [
       "Churn\n",
       "No     37.569965\n",
       "Yes    17.979133\n",
       "Name: tenure, dtype: float64"
      ]
     },
     "execution_count": 36,
     "metadata": {},
     "output_type": "execute_result"
    }
   ],
   "source": [
    "#TEST Null Average tenure of Churn yes/nO are Equal\n",
    "df.tenure.groupby(df.Churn).mean()"
   ]
  },
  {
   "cell_type": "code",
   "execution_count": 37,
   "id": "90804c9d",
   "metadata": {},
   "outputs": [],
   "source": [
    "#H0 Null Hypothesis-There is No significant difference in average of Tenure for Churn yes or no\n",
    "#HA Alternate Hypothesis Hypothesis-There is significant difference in average of tenure for Churn yes or no"
   ]
  },
  {
   "cell_type": "code",
   "execution_count": 38,
   "id": "2f05e2bb",
   "metadata": {},
   "outputs": [
    {
     "data": {
      "text/plain": [
       "Ttest_indResult(statistic=34.82381869631297, pvalue=1.1954945472607148e-232)"
      ]
     },
     "execution_count": 38,
     "metadata": {},
     "output_type": "execute_result"
    }
   ],
   "source": [
    "ttest_ind(dfchurnNo.tenure,dfchurnYes.tenure,equal_var=False)\n",
    "#P value is less than 0.05 so we reject the Null hypothesis and we can say there is significant difference in average of\n",
    "#tenure for churn classes"
   ]
  },
  {
   "cell_type": "code",
   "execution_count": 39,
   "id": "32838c57",
   "metadata": {},
   "outputs": [
    {
     "data": {
      "text/plain": [
       "gender\n",
       "Female    2279.918062\n",
       "Male      2279.554008\n",
       "Name: TotalCharges, dtype: float64"
      ]
     },
     "execution_count": 39,
     "metadata": {},
     "output_type": "execute_result"
    }
   ],
   "source": [
    "#Test null Average Totalcharges paid by male and female customers equal.\n",
    "df.TotalCharges.groupby(df.gender).mean()\n",
    "#vert less difference"
   ]
  },
  {
   "cell_type": "code",
   "execution_count": 40,
   "id": "539e11cc",
   "metadata": {},
   "outputs": [
    {
     "data": {
      "text/plain": [
       "gender\n",
       "Female    5.156740e+06\n",
       "Male      5.121767e+06\n",
       "Name: TotalCharges, dtype: float64"
      ]
     },
     "execution_count": 40,
     "metadata": {},
     "output_type": "execute_result"
    }
   ],
   "source": [
    "df.TotalCharges.groupby(df.gender).var()"
   ]
  },
  {
   "cell_type": "code",
   "execution_count": 41,
   "id": "6aec7ce5",
   "metadata": {},
   "outputs": [],
   "source": [
    "#H0 Null Hypothesis-There is No significant difference in average of totalcharges for gender male or female\n",
    "#HA Null Hypothesis-There is significant difference in average of totalcharges for gender male or female"
   ]
  },
  {
   "cell_type": "code",
   "execution_count": 42,
   "id": "060a1bc2",
   "metadata": {},
   "outputs": [
    {
     "name": "stdout",
     "output_type": "stream",
     "text": [
      "(3555, 21)\n",
      "(3488, 21)\n"
     ]
    }
   ],
   "source": [
    "dfgendermale=df[df.gender==\"Male\"]\n",
    "dfgenderfemale=df[df.gender==\"Female\"]\n",
    "print(dfgendermale.shape)\n",
    "print(dfgenderfemale.shape)"
   ]
  },
  {
   "cell_type": "code",
   "execution_count": 43,
   "id": "b65ad4f6",
   "metadata": {},
   "outputs": [
    {
     "data": {
      "text/plain": [
       "Ttest_indResult(statistic=-0.006738098444819142, pvalue=0.99462400695025)"
      ]
     },
     "execution_count": 43,
     "metadata": {},
     "output_type": "execute_result"
    }
   ],
   "source": [
    "ttest_ind(dfgendermale.TotalCharges,dfgenderfemale.TotalCharges,equal_var=False)\n",
    "#P value is greater than 0.05 so we are failed to reject NULL so there is No significant difference"
   ]
  },
  {
   "cell_type": "code",
   "execution_count": 44,
   "id": "ede2ecc2",
   "metadata": {},
   "outputs": [
    {
     "data": {
      "text/plain": [
       "PaymentMethod\n",
       "Bank transfer (automatic)    3075.310816\n",
       "Credit card (automatic)      3069.378022\n",
       "Electronic check             2090.868182\n",
       "Mailed check                 1049.250744\n",
       "Name: TotalCharges, dtype: float64"
      ]
     },
     "execution_count": 44,
     "metadata": {},
     "output_type": "execute_result"
    }
   ],
   "source": [
    "# IF THERE ARE MORE THAN 2 LEVELS IN CATEGORICAL VARIABLE AND OTHER \n",
    "# VARIABLE IS NUMERIC - ANOVA SINGLE FACTOR OR ONE WAY ANOVA\n",
    "\n",
    "# NULL - THERE IS NO SIGNIFICANT DIFFERENCE IN AVERAGE (NUMERIC VARIABLE) \n",
    "# AND DIFFERENT (CATEGORICAL WITH MORETHAN 2 LEVELS )\n",
    "# ALT - THERE IS SIGNIFICANT DIFFERENCE IN AVERAGE (NUMERIC VARIABLE) \n",
    "# AND DIFFERENT (CATEGORICAL WITH MORETHAN 2 LEVELS )\n",
    "df.TotalCharges.groupby(df.PaymentMethod).mean()"
   ]
  },
  {
   "cell_type": "code",
   "execution_count": 45,
   "id": "5f7a837a",
   "metadata": {},
   "outputs": [],
   "source": [
    "# Split dataframe into 4 dataframes\n",
    "BT=df[df.PaymentMethod=='Bank transfer (automatic)']\n",
    "CC=df[df.PaymentMethod=='Credit card (automatic)']\n",
    "EC=df[df.PaymentMethod=='Electronic check']\n",
    "MC=df[df.PaymentMethod=='Mailed check']"
   ]
  },
  {
   "cell_type": "code",
   "execution_count": 46,
   "id": "5bc619c1",
   "metadata": {},
   "outputs": [],
   "source": [
    "from scipy.stats import f_oneway # Anova test\n"
   ]
  },
  {
   "cell_type": "code",
   "execution_count": 47,
   "id": "0200866d",
   "metadata": {},
   "outputs": [
    {
     "data": {
      "text/plain": [
       "F_onewayResult(statistic=329.1333496510405, pvalue=5.30941682341985e-200)"
      ]
     },
     "execution_count": 47,
     "metadata": {},
     "output_type": "execute_result"
    }
   ],
   "source": [
    "f_oneway(BT.TotalCharges,CC.TotalCharges,EC.TotalCharges,MC.TotalCharges)\n",
    "\n",
    "#Since pvalue is less than 0.05, Reject Null\n",
    "# Null - No Significant difference in Average TotalCharges paid by\n",
    "# different PaymentMethod"
   ]
  },
  {
   "cell_type": "code",
   "execution_count": 48,
   "id": "0be37b11",
   "metadata": {},
   "outputs": [],
   "source": [
    "# IF BOTH VARIABLES ARE NON NUMERIC & CATEGORICAL - CHISQUARE TEST OF\n",
    "# INDEPENDENCE\n",
    "# INPUT OF THIS TEST IS CROSS TABULATION\n",
    "\n",
    "# NULL - THERE IS NO ASSOCIATION BETWEEN BOTH VARIABLES\n",
    "# ALT - THERE IS ASSOCIATION BETWEEN BOTH VARIABLES"
   ]
  },
  {
   "cell_type": "code",
   "execution_count": 49,
   "id": "0febb564",
   "metadata": {},
   "outputs": [
    {
     "data": {
      "text/html": [
       "<div>\n",
       "<style scoped>\n",
       "    .dataframe tbody tr th:only-of-type {\n",
       "        vertical-align: middle;\n",
       "    }\n",
       "\n",
       "    .dataframe tbody tr th {\n",
       "        vertical-align: top;\n",
       "    }\n",
       "\n",
       "    .dataframe thead th {\n",
       "        text-align: right;\n",
       "    }\n",
       "</style>\n",
       "<table border=\"1\" class=\"dataframe\">\n",
       "  <thead>\n",
       "    <tr style=\"text-align: right;\">\n",
       "      <th>Churn</th>\n",
       "      <th>No</th>\n",
       "      <th>Yes</th>\n",
       "    </tr>\n",
       "    <tr>\n",
       "      <th>gender</th>\n",
       "      <th></th>\n",
       "      <th></th>\n",
       "    </tr>\n",
       "  </thead>\n",
       "  <tbody>\n",
       "    <tr>\n",
       "      <th>Female</th>\n",
       "      <td>2549</td>\n",
       "      <td>939</td>\n",
       "    </tr>\n",
       "    <tr>\n",
       "      <th>Male</th>\n",
       "      <td>2625</td>\n",
       "      <td>930</td>\n",
       "    </tr>\n",
       "  </tbody>\n",
       "</table>\n",
       "</div>"
      ],
      "text/plain": [
       "Churn     No  Yes\n",
       "gender           \n",
       "Female  2549  939\n",
       "Male    2625  930"
      ]
     },
     "execution_count": 49,
     "metadata": {},
     "output_type": "execute_result"
    }
   ],
   "source": [
    "# TEST NULL NO ASSOCIATION BETWEEN GENDER AND CHURN\n",
    "pd.crosstab(df.gender,df.Churn)"
   ]
  },
  {
   "cell_type": "code",
   "execution_count": 50,
   "id": "019561d6",
   "metadata": {},
   "outputs": [],
   "source": [
    "from scipy.stats import chi2_contingency"
   ]
  },
  {
   "cell_type": "code",
   "execution_count": 51,
   "id": "7197eddf",
   "metadata": {},
   "outputs": [
    {
     "data": {
      "text/plain": [
       "(0.4840828822091383,\n",
       " 0.48657873605618596,\n",
       " 1,\n",
       " array([[2562.38989067,  925.61010933],\n",
       "        [2611.61010933,  943.38989067]]))"
      ]
     },
     "execution_count": 51,
     "metadata": {},
     "output_type": "execute_result"
    }
   ],
   "source": [
    "chi2_contingency(pd.crosstab(df.gender,df.Churn))\n",
    "# Since p-value=0.486 is greater than 0.05, Fail To Reject Null"
   ]
  },
  {
   "cell_type": "code",
   "execution_count": 52,
   "id": "d7b33487",
   "metadata": {},
   "outputs": [
    {
     "data": {
      "text/plain": [
       "(159.42630036838742,\n",
       " 1.510066805092378e-36,\n",
       " 1,\n",
       " array([[4335.05239245, 1565.94760755],\n",
       "        [ 838.94760755,  303.05239245]]))"
      ]
     },
     "execution_count": 52,
     "metadata": {},
     "output_type": "execute_result"
    }
   ],
   "source": [
    "# Test Null No Association between SeniorCitizen and Churn\n",
    "chi2_contingency(pd.crosstab(df.SeniorCitizen,df.Churn))\n",
    "# Since p-value is 1.510066805092378e-36 less than 0.05, Reject Null"
   ]
  },
  {
   "cell_type": "code",
   "execution_count": 53,
   "id": "1e7178bb",
   "metadata": {},
   "outputs": [
    {
     "data": {
      "text/plain": [
       "<seaborn.axisgrid.PairGrid at 0x158b8665070>"
      ]
     },
     "execution_count": 53,
     "metadata": {},
     "output_type": "execute_result"
    },
    {
     "data": {
      "image/png": "[encoded data removed]",
      "text/plain": [
       "<Figure size 720x720 with 20 Axes>"
      ]
     },
     "metadata": {
      "needs_background": "light"
     },
     "output_type": "display_data"
    }
   ],
   "source": [
    "sns.pairplot(df)"
   ]
  },
  {
   "cell_type": "code",
   "execution_count": 54,
   "id": "99ff186b",
   "metadata": {},
   "outputs": [
    {
     "data": {
      "text/html": [
       "<div>\n",
       "<style scoped>\n",
       "    .dataframe tbody tr th:only-of-type {\n",
       "        vertical-align: middle;\n",
       "    }\n",
       "\n",
       "    .dataframe tbody tr th {\n",
       "        vertical-align: top;\n",
       "    }\n",
       "\n",
       "    .dataframe thead th {\n",
       "        text-align: right;\n",
       "    }\n",
       "</style>\n",
       "<table border=\"1\" class=\"dataframe\">\n",
       "  <thead>\n",
       "    <tr style=\"text-align: right;\">\n",
       "      <th></th>\n",
       "      <th>customerID</th>\n",
       "      <th>gender</th>\n",
       "      <th>SeniorCitizen</th>\n",
       "      <th>Partner</th>\n",
       "      <th>Dependents</th>\n",
       "      <th>tenure</th>\n",
       "      <th>PhoneService</th>\n",
       "      <th>MultipleLines</th>\n",
       "      <th>InternetService</th>\n",
       "      <th>OnlineSecurity</th>\n",
       "      <th>...</th>\n",
       "      <th>DeviceProtection</th>\n",
       "      <th>TechSupport</th>\n",
       "      <th>StreamingTV</th>\n",
       "      <th>StreamingMovies</th>\n",
       "      <th>Contract</th>\n",
       "      <th>PaperlessBilling</th>\n",
       "      <th>PaymentMethod</th>\n",
       "      <th>MonthlyCharges</th>\n",
       "      <th>TotalCharges</th>\n",
       "      <th>Churn</th>\n",
       "    </tr>\n",
       "  </thead>\n",
       "  <tbody>\n",
       "    <tr>\n",
       "      <th>0</th>\n",
       "      <td>7590-VHVEG</td>\n",
       "      <td>Female</td>\n",
       "      <td>0</td>\n",
       "      <td>Yes</td>\n",
       "      <td>No</td>\n",
       "      <td>1</td>\n",
       "      <td>No</td>\n",
       "      <td>No phone service</td>\n",
       "      <td>DSL</td>\n",
       "      <td>No</td>\n",
       "      <td>...</td>\n",
       "      <td>No</td>\n",
       "      <td>No</td>\n",
       "      <td>No</td>\n",
       "      <td>No</td>\n",
       "      <td>Month-to-month</td>\n",
       "      <td>Yes</td>\n",
       "      <td>Electronic check</td>\n",
       "      <td>29.85</td>\n",
       "      <td>29.85</td>\n",
       "      <td>No</td>\n",
       "    </tr>\n",
       "    <tr>\n",
       "      <th>1</th>\n",
       "      <td>5575-GNVDE</td>\n",
       "      <td>Male</td>\n",
       "      <td>0</td>\n",
       "      <td>No</td>\n",
       "      <td>No</td>\n",
       "      <td>34</td>\n",
       "      <td>Yes</td>\n",
       "      <td>No</td>\n",
       "      <td>DSL</td>\n",
       "      <td>Yes</td>\n",
       "      <td>...</td>\n",
       "      <td>Yes</td>\n",
       "      <td>No</td>\n",
       "      <td>No</td>\n",
       "      <td>No</td>\n",
       "      <td>One year</td>\n",
       "      <td>No</td>\n",
       "      <td>Mailed check</td>\n",
       "      <td>56.95</td>\n",
       "      <td>1889.50</td>\n",
       "      <td>No</td>\n",
       "    </tr>\n",
       "    <tr>\n",
       "      <th>2</th>\n",
       "      <td>3668-QPYBK</td>\n",
       "      <td>Male</td>\n",
       "      <td>0</td>\n",
       "      <td>No</td>\n",
       "      <td>No</td>\n",
       "      <td>2</td>\n",
       "      <td>Yes</td>\n",
       "      <td>No</td>\n",
       "      <td>DSL</td>\n",
       "      <td>Yes</td>\n",
       "      <td>...</td>\n",
       "      <td>No</td>\n",
       "      <td>No</td>\n",
       "      <td>No</td>\n",
       "      <td>No</td>\n",
       "      <td>Month-to-month</td>\n",
       "      <td>Yes</td>\n",
       "      <td>Mailed check</td>\n",
       "      <td>53.85</td>\n",
       "      <td>108.15</td>\n",
       "      <td>Yes</td>\n",
       "    </tr>\n",
       "    <tr>\n",
       "      <th>3</th>\n",
       "      <td>7795-CFOCW</td>\n",
       "      <td>Male</td>\n",
       "      <td>0</td>\n",
       "      <td>No</td>\n",
       "      <td>No</td>\n",
       "      <td>45</td>\n",
       "      <td>No</td>\n",
       "      <td>No phone service</td>\n",
       "      <td>DSL</td>\n",
       "      <td>Yes</td>\n",
       "      <td>...</td>\n",
       "      <td>Yes</td>\n",
       "      <td>Yes</td>\n",
       "      <td>No</td>\n",
       "      <td>No</td>\n",
       "      <td>One year</td>\n",
       "      <td>No</td>\n",
       "      <td>Bank transfer (automatic)</td>\n",
       "      <td>42.30</td>\n",
       "      <td>1840.75</td>\n",
       "      <td>No</td>\n",
       "    </tr>\n",
       "    <tr>\n",
       "      <th>4</th>\n",
       "      <td>9237-HQITU</td>\n",
       "      <td>Female</td>\n",
       "      <td>0</td>\n",
       "      <td>No</td>\n",
       "      <td>No</td>\n",
       "      <td>2</td>\n",
       "      <td>Yes</td>\n",
       "      <td>No</td>\n",
       "      <td>Fiber optic</td>\n",
       "      <td>No</td>\n",
       "      <td>...</td>\n",
       "      <td>No</td>\n",
       "      <td>No</td>\n",
       "      <td>No</td>\n",
       "      <td>No</td>\n",
       "      <td>Month-to-month</td>\n",
       "      <td>Yes</td>\n",
       "      <td>Electronic check</td>\n",
       "      <td>70.70</td>\n",
       "      <td>151.65</td>\n",
       "      <td>Yes</td>\n",
       "    </tr>\n",
       "  </tbody>\n",
       "</table>\n",
       "<p>5 rows × 21 columns</p>\n",
       "</div>"
      ],
      "text/plain": [
       "   customerID  gender  SeniorCitizen Partner Dependents  tenure PhoneService  \\\n",
       "0  7590-VHVEG  Female              0     Yes         No       1           No   \n",
       "1  5575-GNVDE    Male              0      No         No      34          Yes   \n",
       "2  3668-QPYBK    Male              0      No         No       2          Yes   \n",
       "3  7795-CFOCW    Male              0      No         No      45           No   \n",
       "4  9237-HQITU  Female              0      No         No       2          Yes   \n",
       "\n",
       "      MultipleLines InternetService OnlineSecurity  ... DeviceProtection  \\\n",
       "0  No phone service             DSL             No  ...               No   \n",
       "1                No             DSL            Yes  ...              Yes   \n",
       "2                No             DSL            Yes  ...               No   \n",
       "3  No phone service             DSL            Yes  ...              Yes   \n",
       "4                No     Fiber optic             No  ...               No   \n",
       "\n",
       "  TechSupport StreamingTV StreamingMovies        Contract PaperlessBilling  \\\n",
       "0          No          No              No  Month-to-month              Yes   \n",
       "1          No          No              No        One year               No   \n",
       "2          No          No              No  Month-to-month              Yes   \n",
       "3         Yes          No              No        One year               No   \n",
       "4          No          No              No  Month-to-month              Yes   \n",
       "\n",
       "               PaymentMethod MonthlyCharges  TotalCharges  Churn  \n",
       "0           Electronic check          29.85         29.85     No  \n",
       "1               Mailed check          56.95       1889.50     No  \n",
       "2               Mailed check          53.85        108.15    Yes  \n",
       "3  Bank transfer (automatic)          42.30       1840.75     No  \n",
       "4           Electronic check          70.70        151.65    Yes  \n",
       "\n",
       "[5 rows x 21 columns]"
      ]
     },
     "execution_count": 54,
     "metadata": {},
     "output_type": "execute_result"
    }
   ],
   "source": [
    "df.head()"
   ]
  },
  {
   "cell_type": "code",
   "execution_count": 55,
   "id": "8c5c05a5",
   "metadata": {},
   "outputs": [
    {
     "data": {
      "text/plain": [
       "No                     3088\n",
       "Yes                    2429\n",
       "No internet service    1526\n",
       "Name: OnlineBackup, dtype: int64"
      ]
     },
     "execution_count": 55,
     "metadata": {},
     "output_type": "execute_result"
    }
   ],
   "source": [
    "df.OnlineBackup.value_counts()"
   ]
  },
  {
   "cell_type": "code",
   "execution_count": 56,
   "id": "bbad8366",
   "metadata": {},
   "outputs": [
    {
     "name": "stdout",
     "output_type": "stream",
     "text": [
      "<class 'pandas.core.frame.DataFrame'>\n",
      "RangeIndex: 7043 entries, 0 to 7042\n",
      "Data columns (total 21 columns):\n",
      " #   Column            Non-Null Count  Dtype  \n",
      "---  ------            --------------  -----  \n",
      " 0   customerID        7043 non-null   object \n",
      " 1   gender            7043 non-null   object \n",
      " 2   SeniorCitizen     7043 non-null   int64  \n",
      " 3   Partner           7043 non-null   object \n",
      " 4   Dependents        7043 non-null   object \n",
      " 5   tenure            7043 non-null   int64  \n",
      " 6   PhoneService      7043 non-null   object \n",
      " 7   MultipleLines     7043 non-null   object \n",
      " 8   InternetService   7043 non-null   object \n",
      " 9   OnlineSecurity    7043 non-null   object \n",
      " 10  OnlineBackup      7043 non-null   object \n",
      " 11  DeviceProtection  7043 non-null   object \n",
      " 12  TechSupport       7043 non-null   object \n",
      " 13  StreamingTV       7043 non-null   object \n",
      " 14  StreamingMovies   7043 non-null   object \n",
      " 15  Contract          7043 non-null   object \n",
      " 16  PaperlessBilling  7043 non-null   object \n",
      " 17  PaymentMethod     7043 non-null   object \n",
      " 18  MonthlyCharges    7043 non-null   float64\n",
      " 19  TotalCharges      7043 non-null   float64\n",
      " 20  Churn             7043 non-null   object \n",
      "dtypes: float64(2), int64(2), object(17)\n",
      "memory usage: 1.1+ MB\n"
     ]
    }
   ],
   "source": [
    "df.info()"
   ]
  },
  {
   "cell_type": "code",
   "execution_count": 57,
   "id": "a65be06e",
   "metadata": {},
   "outputs": [],
   "source": [
    "## Encode The Features"
   ]
  },
  {
   "cell_type": "code",
   "execution_count": 58,
   "id": "cb748490",
   "metadata": {},
   "outputs": [
    {
     "data": {
      "text/plain": [
       "Yes    6361\n",
       "No      682\n",
       "Name: PhoneService, dtype: int64"
      ]
     },
     "execution_count": 58,
     "metadata": {},
     "output_type": "execute_result"
    }
   ],
   "source": [
    "df.PhoneService.value_counts()"
   ]
  },
  {
   "cell_type": "code",
   "execution_count": 59,
   "id": "18684834",
   "metadata": {},
   "outputs": [],
   "source": [
    "\n",
    "from sklearn.preprocessing import OneHotEncoder\n",
    "from sklearn.preprocessing import OrdinalEncoder\n",
    "from sklearn.preprocessing import LabelEncoder\n",
    "from sklearn.compose import ColumnTransformer"
   ]
  },
  {
   "cell_type": "code",
   "execution_count": 60,
   "id": "9a0d7b45",
   "metadata": {},
   "outputs": [],
   "source": [
    "transformer = ColumnTransformer(transformers=[\n",
    "    ('tnf1',OneHotEncoder(sparse=False,drop='first'),['gender','Partner',\"Dependents\",\"MultipleLines\",\"InternetService\",\n",
    "                                                      \"OnlineSecurity\",\"DeviceProtection\",\"TechSupport\",\"StreamingTV\",\n",
    "                                                      \"StreamingMovies\",\"Contract\",\"PaperlessBilling\",\"PaymentMethod\",\n",
    "                                                      \"OnlineBackup\",\"PhoneService\"]),\n",
    "    \n",
    "],remainder='passthrough')"
   ]
  },
  {
   "cell_type": "code",
   "execution_count": 61,
   "id": "6c2889f6",
   "metadata": {},
   "outputs": [],
   "source": [
    "ohe_data=df[['gender','Partner',\"Dependents\",\"MultipleLines\",\"InternetService\",\n",
    "                                                      \"OnlineSecurity\",\"DeviceProtection\",\"TechSupport\",\"StreamingTV\",\n",
    "                                                      \"StreamingMovies\",\"Contract\",\"PaperlessBilling\",\"PaymentMethod\",\n",
    "            \"OnlineBackup\",\"PhoneService\"]]"
   ]
  },
  {
   "cell_type": "code",
   "execution_count": 62,
   "id": "bcf9e311",
   "metadata": {},
   "outputs": [
    {
     "data": {
      "text/html": [
       "<div>\n",
       "<style scoped>\n",
       "    .dataframe tbody tr th:only-of-type {\n",
       "        vertical-align: middle;\n",
       "    }\n",
       "\n",
       "    .dataframe tbody tr th {\n",
       "        vertical-align: top;\n",
       "    }\n",
       "\n",
       "    .dataframe thead th {\n",
       "        text-align: right;\n",
       "    }\n",
       "</style>\n",
       "<table border=\"1\" class=\"dataframe\">\n",
       "  <thead>\n",
       "    <tr style=\"text-align: right;\">\n",
       "      <th></th>\n",
       "      <th>gender</th>\n",
       "      <th>Partner</th>\n",
       "      <th>Dependents</th>\n",
       "      <th>MultipleLines</th>\n",
       "      <th>InternetService</th>\n",
       "      <th>OnlineSecurity</th>\n",
       "      <th>DeviceProtection</th>\n",
       "      <th>TechSupport</th>\n",
       "      <th>StreamingTV</th>\n",
       "      <th>StreamingMovies</th>\n",
       "      <th>Contract</th>\n",
       "      <th>PaperlessBilling</th>\n",
       "      <th>PaymentMethod</th>\n",
       "      <th>OnlineBackup</th>\n",
       "      <th>PhoneService</th>\n",
       "    </tr>\n",
       "  </thead>\n",
       "  <tbody>\n",
       "    <tr>\n",
       "      <th>0</th>\n",
       "      <td>Female</td>\n",
       "      <td>Yes</td>\n",
       "      <td>No</td>\n",
       "      <td>No phone service</td>\n",
       "      <td>DSL</td>\n",
       "      <td>No</td>\n",
       "      <td>No</td>\n",
       "      <td>No</td>\n",
       "      <td>No</td>\n",
       "      <td>No</td>\n",
       "      <td>Month-to-month</td>\n",
       "      <td>Yes</td>\n",
       "      <td>Electronic check</td>\n",
       "      <td>Yes</td>\n",
       "      <td>No</td>\n",
       "    </tr>\n",
       "    <tr>\n",
       "      <th>1</th>\n",
       "      <td>Male</td>\n",
       "      <td>No</td>\n",
       "      <td>No</td>\n",
       "      <td>No</td>\n",
       "      <td>DSL</td>\n",
       "      <td>Yes</td>\n",
       "      <td>Yes</td>\n",
       "      <td>No</td>\n",
       "      <td>No</td>\n",
       "      <td>No</td>\n",
       "      <td>One year</td>\n",
       "      <td>No</td>\n",
       "      <td>Mailed check</td>\n",
       "      <td>No</td>\n",
       "      <td>Yes</td>\n",
       "    </tr>\n",
       "    <tr>\n",
       "      <th>2</th>\n",
       "      <td>Male</td>\n",
       "      <td>No</td>\n",
       "      <td>No</td>\n",
       "      <td>No</td>\n",
       "      <td>DSL</td>\n",
       "      <td>Yes</td>\n",
       "      <td>No</td>\n",
       "      <td>No</td>\n",
       "      <td>No</td>\n",
       "      <td>No</td>\n",
       "      <td>Month-to-month</td>\n",
       "      <td>Yes</td>\n",
       "      <td>Mailed check</td>\n",
       "      <td>Yes</td>\n",
       "      <td>Yes</td>\n",
       "    </tr>\n",
       "    <tr>\n",
       "      <th>3</th>\n",
       "      <td>Male</td>\n",
       "      <td>No</td>\n",
       "      <td>No</td>\n",
       "      <td>No phone service</td>\n",
       "      <td>DSL</td>\n",
       "      <td>Yes</td>\n",
       "      <td>Yes</td>\n",
       "      <td>Yes</td>\n",
       "      <td>No</td>\n",
       "      <td>No</td>\n",
       "      <td>One year</td>\n",
       "      <td>No</td>\n",
       "      <td>Bank transfer (automatic)</td>\n",
       "      <td>No</td>\n",
       "      <td>No</td>\n",
       "    </tr>\n",
       "    <tr>\n",
       "      <th>4</th>\n",
       "      <td>Female</td>\n",
       "      <td>No</td>\n",
       "      <td>No</td>\n",
       "      <td>No</td>\n",
       "      <td>Fiber optic</td>\n",
       "      <td>No</td>\n",
       "      <td>No</td>\n",
       "      <td>No</td>\n",
       "      <td>No</td>\n",
       "      <td>No</td>\n",
       "      <td>Month-to-month</td>\n",
       "      <td>Yes</td>\n",
       "      <td>Electronic check</td>\n",
       "      <td>No</td>\n",
       "      <td>Yes</td>\n",
       "    </tr>\n",
       "  </tbody>\n",
       "</table>\n",
       "</div>"
      ],
      "text/plain": [
       "   gender Partner Dependents     MultipleLines InternetService OnlineSecurity  \\\n",
       "0  Female     Yes         No  No phone service             DSL             No   \n",
       "1    Male      No         No                No             DSL            Yes   \n",
       "2    Male      No         No                No             DSL            Yes   \n",
       "3    Male      No         No  No phone service             DSL            Yes   \n",
       "4  Female      No         No                No     Fiber optic             No   \n",
       "\n",
       "  DeviceProtection TechSupport StreamingTV StreamingMovies        Contract  \\\n",
       "0               No          No          No              No  Month-to-month   \n",
       "1              Yes          No          No              No        One year   \n",
       "2               No          No          No              No  Month-to-month   \n",
       "3              Yes         Yes          No              No        One year   \n",
       "4               No          No          No              No  Month-to-month   \n",
       "\n",
       "  PaperlessBilling              PaymentMethod OnlineBackup PhoneService  \n",
       "0              Yes           Electronic check          Yes           No  \n",
       "1               No               Mailed check           No          Yes  \n",
       "2              Yes               Mailed check          Yes          Yes  \n",
       "3               No  Bank transfer (automatic)           No           No  \n",
       "4              Yes           Electronic check           No          Yes  "
      ]
     },
     "execution_count": 62,
     "metadata": {},
     "output_type": "execute_result"
    }
   ],
   "source": [
    "ohe_data.head()\n"
   ]
  },
  {
   "cell_type": "code",
   "execution_count": 63,
   "id": "6c2e114b",
   "metadata": {},
   "outputs": [
    {
     "name": "stdout",
     "output_type": "stream",
     "text": [
      "(7043, 15)\n"
     ]
    }
   ],
   "source": [
    "print(ohe_data.shape)"
   ]
  },
  {
   "cell_type": "code",
   "execution_count": 64,
   "id": "22523c2a",
   "metadata": {},
   "outputs": [],
   "source": [
    "ohe_array=transformer.fit_transform(ohe_data)"
   ]
  },
  {
   "cell_type": "code",
   "execution_count": 65,
   "id": "fa33bc28",
   "metadata": {},
   "outputs": [
    {
     "data": {
      "text/plain": [
       "array([[0., 1., 0., ..., 0., 1., 0.],\n",
       "       [1., 0., 0., ..., 0., 0., 1.],\n",
       "       [1., 0., 0., ..., 0., 1., 1.],\n",
       "       ...,\n",
       "       [0., 1., 1., ..., 0., 0., 0.],\n",
       "       [1., 1., 0., ..., 0., 0., 1.],\n",
       "       [1., 0., 0., ..., 0., 0., 1.]])"
      ]
     },
     "execution_count": 65,
     "metadata": {},
     "output_type": "execute_result"
    }
   ],
   "source": [
    "ohe_array"
   ]
  },
  {
   "cell_type": "code",
   "execution_count": 66,
   "id": "60fff7de",
   "metadata": {},
   "outputs": [],
   "source": [
    "ohe_df=pd.DataFrame(ohe_array,columns=[\"gender_M\",\"Partner_Y\",\"Dependents_Y\",\"MultipleLines_Y\",\n",
    "                                       \"MultipleLines_NoPhoneservice\",\"InternetService_DSL\",\"InternetService_No\",\n",
    "                                       \"OnlineSecurity_Y\",\"OnlineSecurity_Noint\",\"DeviceProtection_Y\",\"DeviceProtection_int\",\n",
    "                                       \"TechSupport_Y\",\"TechSupport_NoINT\",\"StreamingTV_Y\",\"StreamingTV_NoINT\",\n",
    "                                       \"StreamingMovies_Y\",\"StreamingMovies_Noint\",\"Contract_oneyr\",\"Contract_twoyr\",\n",
    "                                       \"PaperlessBilling_Y\",\"PaymentMethod_mail\",\"PaymentMethod_banktransfer\",\n",
    "                                       \"PaymentMethod_creditcard\",\"OlineBackup_Y\",\"onlinebackup_noint\",\n",
    "                                       \"PhoneService_y\"])\n",
    "                                       \n",
    "                                       \n",
    "                                       \n",
    "                                       "
   ]
  },
  {
   "cell_type": "code",
   "execution_count": 67,
   "id": "c424b7cd",
   "metadata": {},
   "outputs": [
    {
     "data": {
      "text/html": [
       "<div>\n",
       "<style scoped>\n",
       "    .dataframe tbody tr th:only-of-type {\n",
       "        vertical-align: middle;\n",
       "    }\n",
       "\n",
       "    .dataframe tbody tr th {\n",
       "        vertical-align: top;\n",
       "    }\n",
       "\n",
       "    .dataframe thead th {\n",
       "        text-align: right;\n",
       "    }\n",
       "</style>\n",
       "<table border=\"1\" class=\"dataframe\">\n",
       "  <thead>\n",
       "    <tr style=\"text-align: right;\">\n",
       "      <th></th>\n",
       "      <th>gender_M</th>\n",
       "      <th>Partner_Y</th>\n",
       "      <th>Dependents_Y</th>\n",
       "      <th>MultipleLines_Y</th>\n",
       "      <th>MultipleLines_NoPhoneservice</th>\n",
       "      <th>InternetService_DSL</th>\n",
       "      <th>InternetService_No</th>\n",
       "      <th>OnlineSecurity_Y</th>\n",
       "      <th>OnlineSecurity_Noint</th>\n",
       "      <th>DeviceProtection_Y</th>\n",
       "      <th>...</th>\n",
       "      <th>StreamingMovies_Noint</th>\n",
       "      <th>Contract_oneyr</th>\n",
       "      <th>Contract_twoyr</th>\n",
       "      <th>PaperlessBilling_Y</th>\n",
       "      <th>PaymentMethod_mail</th>\n",
       "      <th>PaymentMethod_banktransfer</th>\n",
       "      <th>PaymentMethod_creditcard</th>\n",
       "      <th>OlineBackup_Y</th>\n",
       "      <th>onlinebackup_noint</th>\n",
       "      <th>PhoneService_y</th>\n",
       "    </tr>\n",
       "  </thead>\n",
       "  <tbody>\n",
       "    <tr>\n",
       "      <th>0</th>\n",
       "      <td>0.0</td>\n",
       "      <td>1.0</td>\n",
       "      <td>0.0</td>\n",
       "      <td>1.0</td>\n",
       "      <td>0.0</td>\n",
       "      <td>0.0</td>\n",
       "      <td>0.0</td>\n",
       "      <td>0.0</td>\n",
       "      <td>0.0</td>\n",
       "      <td>0.0</td>\n",
       "      <td>...</td>\n",
       "      <td>0.0</td>\n",
       "      <td>0.0</td>\n",
       "      <td>0.0</td>\n",
       "      <td>1.0</td>\n",
       "      <td>0.0</td>\n",
       "      <td>1.0</td>\n",
       "      <td>0.0</td>\n",
       "      <td>0.0</td>\n",
       "      <td>1.0</td>\n",
       "      <td>0.0</td>\n",
       "    </tr>\n",
       "    <tr>\n",
       "      <th>1</th>\n",
       "      <td>1.0</td>\n",
       "      <td>0.0</td>\n",
       "      <td>0.0</td>\n",
       "      <td>0.0</td>\n",
       "      <td>0.0</td>\n",
       "      <td>0.0</td>\n",
       "      <td>0.0</td>\n",
       "      <td>0.0</td>\n",
       "      <td>1.0</td>\n",
       "      <td>0.0</td>\n",
       "      <td>...</td>\n",
       "      <td>0.0</td>\n",
       "      <td>1.0</td>\n",
       "      <td>0.0</td>\n",
       "      <td>0.0</td>\n",
       "      <td>0.0</td>\n",
       "      <td>0.0</td>\n",
       "      <td>1.0</td>\n",
       "      <td>0.0</td>\n",
       "      <td>0.0</td>\n",
       "      <td>1.0</td>\n",
       "    </tr>\n",
       "    <tr>\n",
       "      <th>2</th>\n",
       "      <td>1.0</td>\n",
       "      <td>0.0</td>\n",
       "      <td>0.0</td>\n",
       "      <td>0.0</td>\n",
       "      <td>0.0</td>\n",
       "      <td>0.0</td>\n",
       "      <td>0.0</td>\n",
       "      <td>0.0</td>\n",
       "      <td>1.0</td>\n",
       "      <td>0.0</td>\n",
       "      <td>...</td>\n",
       "      <td>0.0</td>\n",
       "      <td>0.0</td>\n",
       "      <td>0.0</td>\n",
       "      <td>1.0</td>\n",
       "      <td>0.0</td>\n",
       "      <td>0.0</td>\n",
       "      <td>1.0</td>\n",
       "      <td>0.0</td>\n",
       "      <td>1.0</td>\n",
       "      <td>1.0</td>\n",
       "    </tr>\n",
       "    <tr>\n",
       "      <th>3</th>\n",
       "      <td>1.0</td>\n",
       "      <td>0.0</td>\n",
       "      <td>0.0</td>\n",
       "      <td>1.0</td>\n",
       "      <td>0.0</td>\n",
       "      <td>0.0</td>\n",
       "      <td>0.0</td>\n",
       "      <td>0.0</td>\n",
       "      <td>1.0</td>\n",
       "      <td>0.0</td>\n",
       "      <td>...</td>\n",
       "      <td>0.0</td>\n",
       "      <td>1.0</td>\n",
       "      <td>0.0</td>\n",
       "      <td>0.0</td>\n",
       "      <td>0.0</td>\n",
       "      <td>0.0</td>\n",
       "      <td>0.0</td>\n",
       "      <td>0.0</td>\n",
       "      <td>0.0</td>\n",
       "      <td>0.0</td>\n",
       "    </tr>\n",
       "    <tr>\n",
       "      <th>4</th>\n",
       "      <td>0.0</td>\n",
       "      <td>0.0</td>\n",
       "      <td>0.0</td>\n",
       "      <td>0.0</td>\n",
       "      <td>0.0</td>\n",
       "      <td>1.0</td>\n",
       "      <td>0.0</td>\n",
       "      <td>0.0</td>\n",
       "      <td>0.0</td>\n",
       "      <td>0.0</td>\n",
       "      <td>...</td>\n",
       "      <td>0.0</td>\n",
       "      <td>0.0</td>\n",
       "      <td>0.0</td>\n",
       "      <td>1.0</td>\n",
       "      <td>0.0</td>\n",
       "      <td>1.0</td>\n",
       "      <td>0.0</td>\n",
       "      <td>0.0</td>\n",
       "      <td>0.0</td>\n",
       "      <td>1.0</td>\n",
       "    </tr>\n",
       "  </tbody>\n",
       "</table>\n",
       "<p>5 rows × 26 columns</p>\n",
       "</div>"
      ],
      "text/plain": [
       "   gender_M  Partner_Y  Dependents_Y  MultipleLines_Y  \\\n",
       "0       0.0        1.0           0.0              1.0   \n",
       "1       1.0        0.0           0.0              0.0   \n",
       "2       1.0        0.0           0.0              0.0   \n",
       "3       1.0        0.0           0.0              1.0   \n",
       "4       0.0        0.0           0.0              0.0   \n",
       "\n",
       "   MultipleLines_NoPhoneservice  InternetService_DSL  InternetService_No  \\\n",
       "0                           0.0                  0.0                 0.0   \n",
       "1                           0.0                  0.0                 0.0   \n",
       "2                           0.0                  0.0                 0.0   \n",
       "3                           0.0                  0.0                 0.0   \n",
       "4                           0.0                  1.0                 0.0   \n",
       "\n",
       "   OnlineSecurity_Y  OnlineSecurity_Noint  DeviceProtection_Y  ...  \\\n",
       "0               0.0                   0.0                 0.0  ...   \n",
       "1               0.0                   1.0                 0.0  ...   \n",
       "2               0.0                   1.0                 0.0  ...   \n",
       "3               0.0                   1.0                 0.0  ...   \n",
       "4               0.0                   0.0                 0.0  ...   \n",
       "\n",
       "   StreamingMovies_Noint  Contract_oneyr  Contract_twoyr  PaperlessBilling_Y  \\\n",
       "0                    0.0             0.0             0.0                 1.0   \n",
       "1                    0.0             1.0             0.0                 0.0   \n",
       "2                    0.0             0.0             0.0                 1.0   \n",
       "3                    0.0             1.0             0.0                 0.0   \n",
       "4                    0.0             0.0             0.0                 1.0   \n",
       "\n",
       "   PaymentMethod_mail  PaymentMethod_banktransfer  PaymentMethod_creditcard  \\\n",
       "0                 0.0                         1.0                       0.0   \n",
       "1                 0.0                         0.0                       1.0   \n",
       "2                 0.0                         0.0                       1.0   \n",
       "3                 0.0                         0.0                       0.0   \n",
       "4                 0.0                         1.0                       0.0   \n",
       "\n",
       "   OlineBackup_Y  onlinebackup_noint  PhoneService_y  \n",
       "0            0.0                 1.0             0.0  \n",
       "1            0.0                 0.0             1.0  \n",
       "2            0.0                 1.0             1.0  \n",
       "3            0.0                 0.0             0.0  \n",
       "4            0.0                 0.0             1.0  \n",
       "\n",
       "[5 rows x 26 columns]"
      ]
     },
     "execution_count": 67,
     "metadata": {},
     "output_type": "execute_result"
    }
   ],
   "source": [
    "ohe_df.head()"
   ]
  },
  {
   "cell_type": "code",
   "execution_count": 68,
   "id": "ddb970d6",
   "metadata": {},
   "outputs": [],
   "source": [
    "df=df.drop(['gender','Partner',\"Dependents\",\"MultipleLines\",\"InternetService\",\n",
    "                                                      \"OnlineSecurity\",\"DeviceProtection\",\"TechSupport\",\"StreamingTV\",\n",
    "                                                      \"StreamingMovies\",\"Contract\",\"PaperlessBilling\"\n",
    "            ,\"PaymentMethod\",\"OnlineBackup\",\"PhoneService\"],axis=1)"
   ]
  },
  {
   "cell_type": "code",
   "execution_count": 69,
   "id": "ad3c937f",
   "metadata": {},
   "outputs": [
    {
     "data": {
      "text/html": [
       "<div>\n",
       "<style scoped>\n",
       "    .dataframe tbody tr th:only-of-type {\n",
       "        vertical-align: middle;\n",
       "    }\n",
       "\n",
       "    .dataframe tbody tr th {\n",
       "        vertical-align: top;\n",
       "    }\n",
       "\n",
       "    .dataframe thead th {\n",
       "        text-align: right;\n",
       "    }\n",
       "</style>\n",
       "<table border=\"1\" class=\"dataframe\">\n",
       "  <thead>\n",
       "    <tr style=\"text-align: right;\">\n",
       "      <th></th>\n",
       "      <th>customerID</th>\n",
       "      <th>SeniorCitizen</th>\n",
       "      <th>tenure</th>\n",
       "      <th>MonthlyCharges</th>\n",
       "      <th>TotalCharges</th>\n",
       "      <th>Churn</th>\n",
       "    </tr>\n",
       "  </thead>\n",
       "  <tbody>\n",
       "    <tr>\n",
       "      <th>0</th>\n",
       "      <td>7590-VHVEG</td>\n",
       "      <td>0</td>\n",
       "      <td>1</td>\n",
       "      <td>29.85</td>\n",
       "      <td>29.85</td>\n",
       "      <td>No</td>\n",
       "    </tr>\n",
       "    <tr>\n",
       "      <th>1</th>\n",
       "      <td>5575-GNVDE</td>\n",
       "      <td>0</td>\n",
       "      <td>34</td>\n",
       "      <td>56.95</td>\n",
       "      <td>1889.50</td>\n",
       "      <td>No</td>\n",
       "    </tr>\n",
       "    <tr>\n",
       "      <th>2</th>\n",
       "      <td>3668-QPYBK</td>\n",
       "      <td>0</td>\n",
       "      <td>2</td>\n",
       "      <td>53.85</td>\n",
       "      <td>108.15</td>\n",
       "      <td>Yes</td>\n",
       "    </tr>\n",
       "    <tr>\n",
       "      <th>3</th>\n",
       "      <td>7795-CFOCW</td>\n",
       "      <td>0</td>\n",
       "      <td>45</td>\n",
       "      <td>42.30</td>\n",
       "      <td>1840.75</td>\n",
       "      <td>No</td>\n",
       "    </tr>\n",
       "    <tr>\n",
       "      <th>4</th>\n",
       "      <td>9237-HQITU</td>\n",
       "      <td>0</td>\n",
       "      <td>2</td>\n",
       "      <td>70.70</td>\n",
       "      <td>151.65</td>\n",
       "      <td>Yes</td>\n",
       "    </tr>\n",
       "  </tbody>\n",
       "</table>\n",
       "</div>"
      ],
      "text/plain": [
       "   customerID  SeniorCitizen  tenure  MonthlyCharges  TotalCharges Churn\n",
       "0  7590-VHVEG              0       1           29.85         29.85    No\n",
       "1  5575-GNVDE              0      34           56.95       1889.50    No\n",
       "2  3668-QPYBK              0       2           53.85        108.15   Yes\n",
       "3  7795-CFOCW              0      45           42.30       1840.75    No\n",
       "4  9237-HQITU              0       2           70.70        151.65   Yes"
      ]
     },
     "execution_count": 69,
     "metadata": {},
     "output_type": "execute_result"
    }
   ],
   "source": [
    "df.head()"
   ]
  },
  {
   "cell_type": "code",
   "execution_count": 70,
   "id": "d0b552f4",
   "metadata": {},
   "outputs": [
    {
     "data": {
      "text/plain": [
       "(7043, 26)"
      ]
     },
     "execution_count": 70,
     "metadata": {},
     "output_type": "execute_result"
    }
   ],
   "source": [
    "ohe_df.shape"
   ]
  },
  {
   "cell_type": "code",
   "execution_count": 71,
   "id": "4de8d39f",
   "metadata": {},
   "outputs": [
    {
     "data": {
      "text/plain": [
       "(7043, 6)"
      ]
     },
     "execution_count": 71,
     "metadata": {},
     "output_type": "execute_result"
    }
   ],
   "source": [
    "df.shape"
   ]
  },
  {
   "cell_type": "code",
   "execution_count": 72,
   "id": "99f6bd4d",
   "metadata": {},
   "outputs": [],
   "source": [
    "ndf_1=pd.concat([df,ohe_df],axis=1)"
   ]
  },
  {
   "cell_type": "code",
   "execution_count": 73,
   "id": "001dc305",
   "metadata": {},
   "outputs": [
    {
     "data": {
      "text/html": [
       "<div>\n",
       "<style scoped>\n",
       "    .dataframe tbody tr th:only-of-type {\n",
       "        vertical-align: middle;\n",
       "    }\n",
       "\n",
       "    .dataframe tbody tr th {\n",
       "        vertical-align: top;\n",
       "    }\n",
       "\n",
       "    .dataframe thead th {\n",
       "        text-align: right;\n",
       "    }\n",
       "</style>\n",
       "<table border=\"1\" class=\"dataframe\">\n",
       "  <thead>\n",
       "    <tr style=\"text-align: right;\">\n",
       "      <th></th>\n",
       "      <th>customerID</th>\n",
       "      <th>SeniorCitizen</th>\n",
       "      <th>tenure</th>\n",
       "      <th>MonthlyCharges</th>\n",
       "      <th>TotalCharges</th>\n",
       "      <th>Churn</th>\n",
       "      <th>gender_M</th>\n",
       "      <th>Partner_Y</th>\n",
       "      <th>Dependents_Y</th>\n",
       "      <th>MultipleLines_Y</th>\n",
       "      <th>...</th>\n",
       "      <th>StreamingMovies_Noint</th>\n",
       "      <th>Contract_oneyr</th>\n",
       "      <th>Contract_twoyr</th>\n",
       "      <th>PaperlessBilling_Y</th>\n",
       "      <th>PaymentMethod_mail</th>\n",
       "      <th>PaymentMethod_banktransfer</th>\n",
       "      <th>PaymentMethod_creditcard</th>\n",
       "      <th>OlineBackup_Y</th>\n",
       "      <th>onlinebackup_noint</th>\n",
       "      <th>PhoneService_y</th>\n",
       "    </tr>\n",
       "  </thead>\n",
       "  <tbody>\n",
       "    <tr>\n",
       "      <th>0</th>\n",
       "      <td>7590-VHVEG</td>\n",
       "      <td>0</td>\n",
       "      <td>1</td>\n",
       "      <td>29.85</td>\n",
       "      <td>29.85</td>\n",
       "      <td>No</td>\n",
       "      <td>0.0</td>\n",
       "      <td>1.0</td>\n",
       "      <td>0.0</td>\n",
       "      <td>1.0</td>\n",
       "      <td>...</td>\n",
       "      <td>0.0</td>\n",
       "      <td>0.0</td>\n",
       "      <td>0.0</td>\n",
       "      <td>1.0</td>\n",
       "      <td>0.0</td>\n",
       "      <td>1.0</td>\n",
       "      <td>0.0</td>\n",
       "      <td>0.0</td>\n",
       "      <td>1.0</td>\n",
       "      <td>0.0</td>\n",
       "    </tr>\n",
       "    <tr>\n",
       "      <th>1</th>\n",
       "      <td>5575-GNVDE</td>\n",
       "      <td>0</td>\n",
       "      <td>34</td>\n",
       "      <td>56.95</td>\n",
       "      <td>1889.50</td>\n",
       "      <td>No</td>\n",
       "      <td>1.0</td>\n",
       "      <td>0.0</td>\n",
       "      <td>0.0</td>\n",
       "      <td>0.0</td>\n",
       "      <td>...</td>\n",
       "      <td>0.0</td>\n",
       "      <td>1.0</td>\n",
       "      <td>0.0</td>\n",
       "      <td>0.0</td>\n",
       "      <td>0.0</td>\n",
       "      <td>0.0</td>\n",
       "      <td>1.0</td>\n",
       "      <td>0.0</td>\n",
       "      <td>0.0</td>\n",
       "      <td>1.0</td>\n",
       "    </tr>\n",
       "    <tr>\n",
       "      <th>2</th>\n",
       "      <td>3668-QPYBK</td>\n",
       "      <td>0</td>\n",
       "      <td>2</td>\n",
       "      <td>53.85</td>\n",
       "      <td>108.15</td>\n",
       "      <td>Yes</td>\n",
       "      <td>1.0</td>\n",
       "      <td>0.0</td>\n",
       "      <td>0.0</td>\n",
       "      <td>0.0</td>\n",
       "      <td>...</td>\n",
       "      <td>0.0</td>\n",
       "      <td>0.0</td>\n",
       "      <td>0.0</td>\n",
       "      <td>1.0</td>\n",
       "      <td>0.0</td>\n",
       "      <td>0.0</td>\n",
       "      <td>1.0</td>\n",
       "      <td>0.0</td>\n",
       "      <td>1.0</td>\n",
       "      <td>1.0</td>\n",
       "    </tr>\n",
       "    <tr>\n",
       "      <th>3</th>\n",
       "      <td>7795-CFOCW</td>\n",
       "      <td>0</td>\n",
       "      <td>45</td>\n",
       "      <td>42.30</td>\n",
       "      <td>1840.75</td>\n",
       "      <td>No</td>\n",
       "      <td>1.0</td>\n",
       "      <td>0.0</td>\n",
       "      <td>0.0</td>\n",
       "      <td>1.0</td>\n",
       "      <td>...</td>\n",
       "      <td>0.0</td>\n",
       "      <td>1.0</td>\n",
       "      <td>0.0</td>\n",
       "      <td>0.0</td>\n",
       "      <td>0.0</td>\n",
       "      <td>0.0</td>\n",
       "      <td>0.0</td>\n",
       "      <td>0.0</td>\n",
       "      <td>0.0</td>\n",
       "      <td>0.0</td>\n",
       "    </tr>\n",
       "    <tr>\n",
       "      <th>4</th>\n",
       "      <td>9237-HQITU</td>\n",
       "      <td>0</td>\n",
       "      <td>2</td>\n",
       "      <td>70.70</td>\n",
       "      <td>151.65</td>\n",
       "      <td>Yes</td>\n",
       "      <td>0.0</td>\n",
       "      <td>0.0</td>\n",
       "      <td>0.0</td>\n",
       "      <td>0.0</td>\n",
       "      <td>...</td>\n",
       "      <td>0.0</td>\n",
       "      <td>0.0</td>\n",
       "      <td>0.0</td>\n",
       "      <td>1.0</td>\n",
       "      <td>0.0</td>\n",
       "      <td>1.0</td>\n",
       "      <td>0.0</td>\n",
       "      <td>0.0</td>\n",
       "      <td>0.0</td>\n",
       "      <td>1.0</td>\n",
       "    </tr>\n",
       "  </tbody>\n",
       "</table>\n",
       "<p>5 rows × 32 columns</p>\n",
       "</div>"
      ],
      "text/plain": [
       "   customerID  SeniorCitizen  tenure  MonthlyCharges  TotalCharges Churn  \\\n",
       "0  7590-VHVEG              0       1           29.85         29.85    No   \n",
       "1  5575-GNVDE              0      34           56.95       1889.50    No   \n",
       "2  3668-QPYBK              0       2           53.85        108.15   Yes   \n",
       "3  7795-CFOCW              0      45           42.30       1840.75    No   \n",
       "4  9237-HQITU              0       2           70.70        151.65   Yes   \n",
       "\n",
       "   gender_M  Partner_Y  Dependents_Y  MultipleLines_Y  ...  \\\n",
       "0       0.0        1.0           0.0              1.0  ...   \n",
       "1       1.0        0.0           0.0              0.0  ...   \n",
       "2       1.0        0.0           0.0              0.0  ...   \n",
       "3       1.0        0.0           0.0              1.0  ...   \n",
       "4       0.0        0.0           0.0              0.0  ...   \n",
       "\n",
       "   StreamingMovies_Noint  Contract_oneyr  Contract_twoyr  PaperlessBilling_Y  \\\n",
       "0                    0.0             0.0             0.0                 1.0   \n",
       "1                    0.0             1.0             0.0                 0.0   \n",
       "2                    0.0             0.0             0.0                 1.0   \n",
       "3                    0.0             1.0             0.0                 0.0   \n",
       "4                    0.0             0.0             0.0                 1.0   \n",
       "\n",
       "   PaymentMethod_mail  PaymentMethod_banktransfer  PaymentMethod_creditcard  \\\n",
       "0                 0.0                         1.0                       0.0   \n",
       "1                 0.0                         0.0                       1.0   \n",
       "2                 0.0                         0.0                       1.0   \n",
       "3                 0.0                         0.0                       0.0   \n",
       "4                 0.0                         1.0                       0.0   \n",
       "\n",
       "   OlineBackup_Y  onlinebackup_noint  PhoneService_y  \n",
       "0            0.0                 1.0             0.0  \n",
       "1            0.0                 0.0             1.0  \n",
       "2            0.0                 1.0             1.0  \n",
       "3            0.0                 0.0             0.0  \n",
       "4            0.0                 0.0             1.0  \n",
       "\n",
       "[5 rows x 32 columns]"
      ]
     },
     "execution_count": 73,
     "metadata": {},
     "output_type": "execute_result"
    }
   ],
   "source": [
    "ndf_1.head()"
   ]
  },
  {
   "cell_type": "code",
   "execution_count": 76,
   "id": "76260c0d",
   "metadata": {},
   "outputs": [],
   "source": [
    "#Now our only one column is Numeric that is target column Churn so we do Label Encoding\n",
    "\n",
    "from sklearn.preprocessing import LabelEncoder"
   ]
  },
  {
   "cell_type": "code",
   "execution_count": 77,
   "id": "01926f42",
   "metadata": {},
   "outputs": [],
   "source": [
    "Le=LabelEncoder()"
   ]
  },
  {
   "cell_type": "code",
   "execution_count": 79,
   "id": "da4b2c7f",
   "metadata": {},
   "outputs": [],
   "source": [
    "Churn_array=Le.fit_transform(ndf_1[\"Churn\"])"
   ]
  },
  {
   "cell_type": "code",
   "execution_count": 80,
   "id": "977145ad",
   "metadata": {},
   "outputs": [],
   "source": [
    "Churn_df=pd.DataFrame(Churn_array,columns=[\"Churn\"])"
   ]
  },
  {
   "cell_type": "code",
   "execution_count": 81,
   "id": "ba8a564f",
   "metadata": {},
   "outputs": [],
   "source": [
    "ndf_1=ndf_1.drop([\"Churn\"],axis=1)"
   ]
  },
  {
   "cell_type": "code",
   "execution_count": 82,
   "id": "51a9c35e",
   "metadata": {},
   "outputs": [],
   "source": [
    "ndf=pd.concat([ndf_1,Churn_df],axis=1)"
   ]
  },
  {
   "cell_type": "code",
   "execution_count": 83,
   "id": "92b851b2",
   "metadata": {},
   "outputs": [
    {
     "data": {
      "text/html": [
       "<div>\n",
       "<style scoped>\n",
       "    .dataframe tbody tr th:only-of-type {\n",
       "        vertical-align: middle;\n",
       "    }\n",
       "\n",
       "    .dataframe tbody tr th {\n",
       "        vertical-align: top;\n",
       "    }\n",
       "\n",
       "    .dataframe thead th {\n",
       "        text-align: right;\n",
       "    }\n",
       "</style>\n",
       "<table border=\"1\" class=\"dataframe\">\n",
       "  <thead>\n",
       "    <tr style=\"text-align: right;\">\n",
       "      <th></th>\n",
       "      <th>customerID</th>\n",
       "      <th>SeniorCitizen</th>\n",
       "      <th>tenure</th>\n",
       "      <th>MonthlyCharges</th>\n",
       "      <th>TotalCharges</th>\n",
       "      <th>gender_M</th>\n",
       "      <th>Partner_Y</th>\n",
       "      <th>Dependents_Y</th>\n",
       "      <th>MultipleLines_Y</th>\n",
       "      <th>MultipleLines_NoPhoneservice</th>\n",
       "      <th>...</th>\n",
       "      <th>Contract_oneyr</th>\n",
       "      <th>Contract_twoyr</th>\n",
       "      <th>PaperlessBilling_Y</th>\n",
       "      <th>PaymentMethod_mail</th>\n",
       "      <th>PaymentMethod_banktransfer</th>\n",
       "      <th>PaymentMethod_creditcard</th>\n",
       "      <th>OlineBackup_Y</th>\n",
       "      <th>onlinebackup_noint</th>\n",
       "      <th>PhoneService_y</th>\n",
       "      <th>Churn</th>\n",
       "    </tr>\n",
       "  </thead>\n",
       "  <tbody>\n",
       "    <tr>\n",
       "      <th>0</th>\n",
       "      <td>7590-VHVEG</td>\n",
       "      <td>0</td>\n",
       "      <td>1</td>\n",
       "      <td>29.85</td>\n",
       "      <td>29.85</td>\n",
       "      <td>0.0</td>\n",
       "      <td>1.0</td>\n",
       "      <td>0.0</td>\n",
       "      <td>1.0</td>\n",
       "      <td>0.0</td>\n",
       "      <td>...</td>\n",
       "      <td>0.0</td>\n",
       "      <td>0.0</td>\n",
       "      <td>1.0</td>\n",
       "      <td>0.0</td>\n",
       "      <td>1.0</td>\n",
       "      <td>0.0</td>\n",
       "      <td>0.0</td>\n",
       "      <td>1.0</td>\n",
       "      <td>0.0</td>\n",
       "      <td>0</td>\n",
       "    </tr>\n",
       "    <tr>\n",
       "      <th>1</th>\n",
       "      <td>5575-GNVDE</td>\n",
       "      <td>0</td>\n",
       "      <td>34</td>\n",
       "      <td>56.95</td>\n",
       "      <td>1889.50</td>\n",
       "      <td>1.0</td>\n",
       "      <td>0.0</td>\n",
       "      <td>0.0</td>\n",
       "      <td>0.0</td>\n",
       "      <td>0.0</td>\n",
       "      <td>...</td>\n",
       "      <td>1.0</td>\n",
       "      <td>0.0</td>\n",
       "      <td>0.0</td>\n",
       "      <td>0.0</td>\n",
       "      <td>0.0</td>\n",
       "      <td>1.0</td>\n",
       "      <td>0.0</td>\n",
       "      <td>0.0</td>\n",
       "      <td>1.0</td>\n",
       "      <td>0</td>\n",
       "    </tr>\n",
       "    <tr>\n",
       "      <th>2</th>\n",
       "      <td>3668-QPYBK</td>\n",
       "      <td>0</td>\n",
       "      <td>2</td>\n",
       "      <td>53.85</td>\n",
       "      <td>108.15</td>\n",
       "      <td>1.0</td>\n",
       "      <td>0.0</td>\n",
       "      <td>0.0</td>\n",
       "      <td>0.0</td>\n",
       "      <td>0.0</td>\n",
       "      <td>...</td>\n",
       "      <td>0.0</td>\n",
       "      <td>0.0</td>\n",
       "      <td>1.0</td>\n",
       "      <td>0.0</td>\n",
       "      <td>0.0</td>\n",
       "      <td>1.0</td>\n",
       "      <td>0.0</td>\n",
       "      <td>1.0</td>\n",
       "      <td>1.0</td>\n",
       "      <td>1</td>\n",
       "    </tr>\n",
       "    <tr>\n",
       "      <th>3</th>\n",
       "      <td>7795-CFOCW</td>\n",
       "      <td>0</td>\n",
       "      <td>45</td>\n",
       "      <td>42.30</td>\n",
       "      <td>1840.75</td>\n",
       "      <td>1.0</td>\n",
       "      <td>0.0</td>\n",
       "      <td>0.0</td>\n",
       "      <td>1.0</td>\n",
       "      <td>0.0</td>\n",
       "      <td>...</td>\n",
       "      <td>1.0</td>\n",
       "      <td>0.0</td>\n",
       "      <td>0.0</td>\n",
       "      <td>0.0</td>\n",
       "      <td>0.0</td>\n",
       "      <td>0.0</td>\n",
       "      <td>0.0</td>\n",
       "      <td>0.0</td>\n",
       "      <td>0.0</td>\n",
       "      <td>0</td>\n",
       "    </tr>\n",
       "    <tr>\n",
       "      <th>4</th>\n",
       "      <td>9237-HQITU</td>\n",
       "      <td>0</td>\n",
       "      <td>2</td>\n",
       "      <td>70.70</td>\n",
       "      <td>151.65</td>\n",
       "      <td>0.0</td>\n",
       "      <td>0.0</td>\n",
       "      <td>0.0</td>\n",
       "      <td>0.0</td>\n",
       "      <td>0.0</td>\n",
       "      <td>...</td>\n",
       "      <td>0.0</td>\n",
       "      <td>0.0</td>\n",
       "      <td>1.0</td>\n",
       "      <td>0.0</td>\n",
       "      <td>1.0</td>\n",
       "      <td>0.0</td>\n",
       "      <td>0.0</td>\n",
       "      <td>0.0</td>\n",
       "      <td>1.0</td>\n",
       "      <td>1</td>\n",
       "    </tr>\n",
       "  </tbody>\n",
       "</table>\n",
       "<p>5 rows × 32 columns</p>\n",
       "</div>"
      ],
      "text/plain": [
       "   customerID  SeniorCitizen  tenure  MonthlyCharges  TotalCharges  gender_M  \\\n",
       "0  7590-VHVEG              0       1           29.85         29.85       0.0   \n",
       "1  5575-GNVDE              0      34           56.95       1889.50       1.0   \n",
       "2  3668-QPYBK              0       2           53.85        108.15       1.0   \n",
       "3  7795-CFOCW              0      45           42.30       1840.75       1.0   \n",
       "4  9237-HQITU              0       2           70.70        151.65       0.0   \n",
       "\n",
       "   Partner_Y  Dependents_Y  MultipleLines_Y  MultipleLines_NoPhoneservice  \\\n",
       "0        1.0           0.0              1.0                           0.0   \n",
       "1        0.0           0.0              0.0                           0.0   \n",
       "2        0.0           0.0              0.0                           0.0   \n",
       "3        0.0           0.0              1.0                           0.0   \n",
       "4        0.0           0.0              0.0                           0.0   \n",
       "\n",
       "   ...  Contract_oneyr  Contract_twoyr  PaperlessBilling_Y  \\\n",
       "0  ...             0.0             0.0                 1.0   \n",
       "1  ...             1.0             0.0                 0.0   \n",
       "2  ...             0.0             0.0                 1.0   \n",
       "3  ...             1.0             0.0                 0.0   \n",
       "4  ...             0.0             0.0                 1.0   \n",
       "\n",
       "   PaymentMethod_mail  PaymentMethod_banktransfer  PaymentMethod_creditcard  \\\n",
       "0                 0.0                         1.0                       0.0   \n",
       "1                 0.0                         0.0                       1.0   \n",
       "2                 0.0                         0.0                       1.0   \n",
       "3                 0.0                         0.0                       0.0   \n",
       "4                 0.0                         1.0                       0.0   \n",
       "\n",
       "   OlineBackup_Y  onlinebackup_noint  PhoneService_y  Churn  \n",
       "0            0.0                 1.0             0.0      0  \n",
       "1            0.0                 0.0             1.0      0  \n",
       "2            0.0                 1.0             1.0      1  \n",
       "3            0.0                 0.0             0.0      0  \n",
       "4            0.0                 0.0             1.0      1  \n",
       "\n",
       "[5 rows x 32 columns]"
      ]
     },
     "execution_count": 83,
     "metadata": {},
     "output_type": "execute_result"
    }
   ],
   "source": [
    "ndf.head()"
   ]
  },
  {
   "cell_type": "code",
   "execution_count": 84,
   "id": "648f50ba",
   "metadata": {},
   "outputs": [],
   "source": [
    "ndf=ndf.drop([\"customerID\"],axis=1)"
   ]
  },
  {
   "cell_type": "code",
   "execution_count": 85,
   "id": "3cd2438e",
   "metadata": {},
   "outputs": [
    {
     "data": {
      "text/html": [
       "<div>\n",
       "<style scoped>\n",
       "    .dataframe tbody tr th:only-of-type {\n",
       "        vertical-align: middle;\n",
       "    }\n",
       "\n",
       "    .dataframe tbody tr th {\n",
       "        vertical-align: top;\n",
       "    }\n",
       "\n",
       "    .dataframe thead th {\n",
       "        text-align: right;\n",
       "    }\n",
       "</style>\n",
       "<table border=\"1\" class=\"dataframe\">\n",
       "  <thead>\n",
       "    <tr style=\"text-align: right;\">\n",
       "      <th></th>\n",
       "      <th>SeniorCitizen</th>\n",
       "      <th>tenure</th>\n",
       "      <th>MonthlyCharges</th>\n",
       "      <th>TotalCharges</th>\n",
       "      <th>gender_M</th>\n",
       "      <th>Partner_Y</th>\n",
       "      <th>Dependents_Y</th>\n",
       "      <th>MultipleLines_Y</th>\n",
       "      <th>MultipleLines_NoPhoneservice</th>\n",
       "      <th>InternetService_DSL</th>\n",
       "      <th>...</th>\n",
       "      <th>Contract_oneyr</th>\n",
       "      <th>Contract_twoyr</th>\n",
       "      <th>PaperlessBilling_Y</th>\n",
       "      <th>PaymentMethod_mail</th>\n",
       "      <th>PaymentMethod_banktransfer</th>\n",
       "      <th>PaymentMethod_creditcard</th>\n",
       "      <th>OlineBackup_Y</th>\n",
       "      <th>onlinebackup_noint</th>\n",
       "      <th>PhoneService_y</th>\n",
       "      <th>Churn</th>\n",
       "    </tr>\n",
       "  </thead>\n",
       "  <tbody>\n",
       "    <tr>\n",
       "      <th>0</th>\n",
       "      <td>0</td>\n",
       "      <td>1</td>\n",
       "      <td>29.85</td>\n",
       "      <td>29.85</td>\n",
       "      <td>0.0</td>\n",
       "      <td>1.0</td>\n",
       "      <td>0.0</td>\n",
       "      <td>1.0</td>\n",
       "      <td>0.0</td>\n",
       "      <td>0.0</td>\n",
       "      <td>...</td>\n",
       "      <td>0.0</td>\n",
       "      <td>0.0</td>\n",
       "      <td>1.0</td>\n",
       "      <td>0.0</td>\n",
       "      <td>1.0</td>\n",
       "      <td>0.0</td>\n",
       "      <td>0.0</td>\n",
       "      <td>1.0</td>\n",
       "      <td>0.0</td>\n",
       "      <td>0</td>\n",
       "    </tr>\n",
       "    <tr>\n",
       "      <th>1</th>\n",
       "      <td>0</td>\n",
       "      <td>34</td>\n",
       "      <td>56.95</td>\n",
       "      <td>1889.50</td>\n",
       "      <td>1.0</td>\n",
       "      <td>0.0</td>\n",
       "      <td>0.0</td>\n",
       "      <td>0.0</td>\n",
       "      <td>0.0</td>\n",
       "      <td>0.0</td>\n",
       "      <td>...</td>\n",
       "      <td>1.0</td>\n",
       "      <td>0.0</td>\n",
       "      <td>0.0</td>\n",
       "      <td>0.0</td>\n",
       "      <td>0.0</td>\n",
       "      <td>1.0</td>\n",
       "      <td>0.0</td>\n",
       "      <td>0.0</td>\n",
       "      <td>1.0</td>\n",
       "      <td>0</td>\n",
       "    </tr>\n",
       "    <tr>\n",
       "      <th>2</th>\n",
       "      <td>0</td>\n",
       "      <td>2</td>\n",
       "      <td>53.85</td>\n",
       "      <td>108.15</td>\n",
       "      <td>1.0</td>\n",
       "      <td>0.0</td>\n",
       "      <td>0.0</td>\n",
       "      <td>0.0</td>\n",
       "      <td>0.0</td>\n",
       "      <td>0.0</td>\n",
       "      <td>...</td>\n",
       "      <td>0.0</td>\n",
       "      <td>0.0</td>\n",
       "      <td>1.0</td>\n",
       "      <td>0.0</td>\n",
       "      <td>0.0</td>\n",
       "      <td>1.0</td>\n",
       "      <td>0.0</td>\n",
       "      <td>1.0</td>\n",
       "      <td>1.0</td>\n",
       "      <td>1</td>\n",
       "    </tr>\n",
       "    <tr>\n",
       "      <th>3</th>\n",
       "      <td>0</td>\n",
       "      <td>45</td>\n",
       "      <td>42.30</td>\n",
       "      <td>1840.75</td>\n",
       "      <td>1.0</td>\n",
       "      <td>0.0</td>\n",
       "      <td>0.0</td>\n",
       "      <td>1.0</td>\n",
       "      <td>0.0</td>\n",
       "      <td>0.0</td>\n",
       "      <td>...</td>\n",
       "      <td>1.0</td>\n",
       "      <td>0.0</td>\n",
       "      <td>0.0</td>\n",
       "      <td>0.0</td>\n",
       "      <td>0.0</td>\n",
       "      <td>0.0</td>\n",
       "      <td>0.0</td>\n",
       "      <td>0.0</td>\n",
       "      <td>0.0</td>\n",
       "      <td>0</td>\n",
       "    </tr>\n",
       "    <tr>\n",
       "      <th>4</th>\n",
       "      <td>0</td>\n",
       "      <td>2</td>\n",
       "      <td>70.70</td>\n",
       "      <td>151.65</td>\n",
       "      <td>0.0</td>\n",
       "      <td>0.0</td>\n",
       "      <td>0.0</td>\n",
       "      <td>0.0</td>\n",
       "      <td>0.0</td>\n",
       "      <td>1.0</td>\n",
       "      <td>...</td>\n",
       "      <td>0.0</td>\n",
       "      <td>0.0</td>\n",
       "      <td>1.0</td>\n",
       "      <td>0.0</td>\n",
       "      <td>1.0</td>\n",
       "      <td>0.0</td>\n",
       "      <td>0.0</td>\n",
       "      <td>0.0</td>\n",
       "      <td>1.0</td>\n",
       "      <td>1</td>\n",
       "    </tr>\n",
       "  </tbody>\n",
       "</table>\n",
       "<p>5 rows × 31 columns</p>\n",
       "</div>"
      ],
      "text/plain": [
       "   SeniorCitizen  tenure  MonthlyCharges  TotalCharges  gender_M  Partner_Y  \\\n",
       "0              0       1           29.85         29.85       0.0        1.0   \n",
       "1              0      34           56.95       1889.50       1.0        0.0   \n",
       "2              0       2           53.85        108.15       1.0        0.0   \n",
       "3              0      45           42.30       1840.75       1.0        0.0   \n",
       "4              0       2           70.70        151.65       0.0        0.0   \n",
       "\n",
       "   Dependents_Y  MultipleLines_Y  MultipleLines_NoPhoneservice  \\\n",
       "0           0.0              1.0                           0.0   \n",
       "1           0.0              0.0                           0.0   \n",
       "2           0.0              0.0                           0.0   \n",
       "3           0.0              1.0                           0.0   \n",
       "4           0.0              0.0                           0.0   \n",
       "\n",
       "   InternetService_DSL  ...  Contract_oneyr  Contract_twoyr  \\\n",
       "0                  0.0  ...             0.0             0.0   \n",
       "1                  0.0  ...             1.0             0.0   \n",
       "2                  0.0  ...             0.0             0.0   \n",
       "3                  0.0  ...             1.0             0.0   \n",
       "4                  1.0  ...             0.0             0.0   \n",
       "\n",
       "   PaperlessBilling_Y  PaymentMethod_mail  PaymentMethod_banktransfer  \\\n",
       "0                 1.0                 0.0                         1.0   \n",
       "1                 0.0                 0.0                         0.0   \n",
       "2                 1.0                 0.0                         0.0   \n",
       "3                 0.0                 0.0                         0.0   \n",
       "4                 1.0                 0.0                         1.0   \n",
       "\n",
       "   PaymentMethod_creditcard  OlineBackup_Y  onlinebackup_noint  \\\n",
       "0                       0.0            0.0                 1.0   \n",
       "1                       1.0            0.0                 0.0   \n",
       "2                       1.0            0.0                 1.0   \n",
       "3                       0.0            0.0                 0.0   \n",
       "4                       0.0            0.0                 0.0   \n",
       "\n",
       "   PhoneService_y  Churn  \n",
       "0             0.0      0  \n",
       "1             1.0      0  \n",
       "2             1.0      1  \n",
       "3             0.0      0  \n",
       "4             1.0      1  \n",
       "\n",
       "[5 rows x 31 columns]"
      ]
     },
     "execution_count": 85,
     "metadata": {},
     "output_type": "execute_result"
    }
   ],
   "source": [
    "ndf.head()"
   ]
  },
  {
   "cell_type": "code",
   "execution_count": 87,
   "id": "167fe4ee",
   "metadata": {},
   "outputs": [],
   "source": [
    "X=ndf.drop([\"Churn\"],axis=1)"
   ]
  },
  {
   "cell_type": "code",
   "execution_count": 88,
   "id": "e90ef93b",
   "metadata": {},
   "outputs": [],
   "source": [
    "Y=ndf[\"Churn\"]"
   ]
  },
  {
   "cell_type": "code",
   "execution_count": 86,
   "id": "a1396fb3",
   "metadata": {},
   "outputs": [],
   "source": [
    "#Now we split our data\n",
    "from sklearn.model_selection import train_test_split"
   ]
  },
  {
   "cell_type": "code",
   "execution_count": 89,
   "id": "1d81baf1",
   "metadata": {},
   "outputs": [],
   "source": [
    "x_train,x_test,y_train,y_test=train_test_split(X,Y,test_size=0.2,random_state=42)"
   ]
  },
  {
   "cell_type": "code",
   "execution_count": 92,
   "id": "a4cc0196",
   "metadata": {},
   "outputs": [
    {
     "name": "stdout",
     "output_type": "stream",
     "text": [
      "(5634, 30)\n",
      "(1409, 30)\n",
      "(5634,)\n",
      "(1409,)\n"
     ]
    }
   ],
   "source": [
    "print(x_train.shape)\n",
    "print(x_test.shape)\n",
    "print(y_train.shape)\n",
    "print(y_test.shape)\n"
   ]
  },
  {
   "cell_type": "markdown",
   "id": "4a4fae9a",
   "metadata": {},
   "source": [
    "### Scaling the data"
   ]
  },
  {
   "cell_type": "code",
   "execution_count": 130,
   "id": "28f21f85",
   "metadata": {},
   "outputs": [
    {
     "data": {
      "text/plain": [
       "Index(['SeniorCitizen', 'tenure', 'MonthlyCharges', 'TotalCharges', 'gender_M',\n",
       "       'Partner_Y', 'Dependents_Y', 'MultipleLines_Y',\n",
       "       'MultipleLines_NoPhoneservice', 'InternetService_DSL',\n",
       "       'InternetService_No', 'OnlineSecurity_Y', 'OnlineSecurity_Noint',\n",
       "       'DeviceProtection_Y', 'DeviceProtection_int', 'TechSupport_Y',\n",
       "       'TechSupport_NoINT', 'StreamingTV_Y', 'StreamingTV_NoINT',\n",
       "       'StreamingMovies_Y', 'StreamingMovies_Noint', 'Contract_oneyr',\n",
       "       'Contract_twoyr', 'PaperlessBilling_Y', 'PaymentMethod_mail',\n",
       "       'PaymentMethod_banktransfer', 'PaymentMethod_creditcard',\n",
       "       'OlineBackup_Y', 'onlinebackup_noint', 'PhoneService_y'],\n",
       "      dtype='object')"
      ]
     },
     "execution_count": 130,
     "metadata": {},
     "output_type": "execute_result"
    }
   ],
   "source": [
    "x_test.columns"
   ]
  },
  {
   "cell_type": "code",
   "execution_count": 117,
   "id": "cd93f796",
   "metadata": {},
   "outputs": [],
   "source": [
    "from sklearn.preprocessing import StandardScaler"
   ]
  },
  {
   "cell_type": "code",
   "execution_count": 118,
   "id": "07204c46",
   "metadata": {},
   "outputs": [],
   "source": [
    "std=StandardScaler()"
   ]
  },
  {
   "cell_type": "code",
   "execution_count": 119,
   "id": "27e37052",
   "metadata": {},
   "outputs": [],
   "source": [
    "xtrain_scale=std.fit_transform(x_train)"
   ]
  },
  {
   "cell_type": "code",
   "execution_count": 120,
   "id": "3176929d",
   "metadata": {},
   "outputs": [],
   "source": [
    "xtest_scale=std.fit_transform(x_test)"
   ]
  },
  {
   "cell_type": "code",
   "execution_count": 128,
   "id": "4b5cd875",
   "metadata": {},
   "outputs": [],
   "source": [
    "xtrain_sdf=pd.DataFrame(xtrain_scale,columns=['SeniorCitizen', 'tenure', 'MonthlyCharges', 'TotalCharges', 'gender_M',\n",
    "       'Partner_Y', 'Dependents_Y', 'MultipleLines_Y',\n",
    "       'MultipleLines_NoPhoneservice', 'InternetService_DSL',\n",
    "       'InternetService_No', 'OnlineSecurity_Y', 'OnlineSecurity_Noint',\n",
    "       'DeviceProtection_Y', 'DeviceProtection_int', 'TechSupport_Y',\n",
    "       'TechSupport_NoINT', 'StreamingTV_Y', 'StreamingTV_NoINT',\n",
    "       'StreamingMovies_Y', 'StreamingMovies_Noint', 'Contract_oneyr',\n",
    "       'Contract_twoyr', 'PaperlessBilling_Y', 'PaymentMethod_mail',\n",
    "       'PaymentMethod_banktransfer', 'PaymentMethod_creditcard',\n",
    "       'OlineBackup_Y', 'onlinebackup_noint', 'PhoneService_y'])"
   ]
  },
  {
   "cell_type": "code",
   "execution_count": 129,
   "id": "88a7ef3f",
   "metadata": {},
   "outputs": [
    {
     "data": {
      "text/html": [
       "<div>\n",
       "<style scoped>\n",
       "    .dataframe tbody tr th:only-of-type {\n",
       "        vertical-align: middle;\n",
       "    }\n",
       "\n",
       "    .dataframe tbody tr th {\n",
       "        vertical-align: top;\n",
       "    }\n",
       "\n",
       "    .dataframe thead th {\n",
       "        text-align: right;\n",
       "    }\n",
       "</style>\n",
       "<table border=\"1\" class=\"dataframe\">\n",
       "  <thead>\n",
       "    <tr style=\"text-align: right;\">\n",
       "      <th></th>\n",
       "      <th>SeniorCitizen</th>\n",
       "      <th>tenure</th>\n",
       "      <th>MonthlyCharges</th>\n",
       "      <th>TotalCharges</th>\n",
       "      <th>gender_M</th>\n",
       "      <th>Partner_Y</th>\n",
       "      <th>Dependents_Y</th>\n",
       "      <th>MultipleLines_Y</th>\n",
       "      <th>MultipleLines_NoPhoneservice</th>\n",
       "      <th>InternetService_DSL</th>\n",
       "      <th>...</th>\n",
       "      <th>StreamingMovies_Noint</th>\n",
       "      <th>Contract_oneyr</th>\n",
       "      <th>Contract_twoyr</th>\n",
       "      <th>PaperlessBilling_Y</th>\n",
       "      <th>PaymentMethod_mail</th>\n",
       "      <th>PaymentMethod_banktransfer</th>\n",
       "      <th>PaymentMethod_creditcard</th>\n",
       "      <th>OlineBackup_Y</th>\n",
       "      <th>onlinebackup_noint</th>\n",
       "      <th>PhoneService_y</th>\n",
       "    </tr>\n",
       "  </thead>\n",
       "  <tbody>\n",
       "    <tr>\n",
       "      <th>0</th>\n",
       "      <td>-0.437749</td>\n",
       "      <td>-0.465683</td>\n",
       "      <td>-0.000474</td>\n",
       "      <td>-0.419925</td>\n",
       "      <td>-1.025166</td>\n",
       "      <td>-0.969579</td>\n",
       "      <td>1.532186</td>\n",
       "      <td>-0.329573</td>\n",
       "      <td>-0.860523</td>\n",
       "      <td>-0.887057</td>\n",
       "      <td>...</td>\n",
       "      <td>1.250762</td>\n",
       "      <td>1.910109</td>\n",
       "      <td>-0.558353</td>\n",
       "      <td>-1.200007</td>\n",
       "      <td>-0.527656</td>\n",
       "      <td>-0.709650</td>\n",
       "      <td>1.84247</td>\n",
       "      <td>-0.524081</td>\n",
       "      <td>-0.733828</td>\n",
       "      <td>0.329573</td>\n",
       "    </tr>\n",
       "    <tr>\n",
       "      <th>1</th>\n",
       "      <td>-0.437749</td>\n",
       "      <td>0.885537</td>\n",
       "      <td>1.074754</td>\n",
       "      <td>1.256017</td>\n",
       "      <td>-1.025166</td>\n",
       "      <td>-0.969579</td>\n",
       "      <td>-0.652662</td>\n",
       "      <td>-0.329573</td>\n",
       "      <td>1.162083</td>\n",
       "      <td>1.127324</td>\n",
       "      <td>...</td>\n",
       "      <td>1.250762</td>\n",
       "      <td>-0.523530</td>\n",
       "      <td>1.790982</td>\n",
       "      <td>0.833328</td>\n",
       "      <td>-0.527656</td>\n",
       "      <td>-0.709650</td>\n",
       "      <td>-0.54275</td>\n",
       "      <td>-0.524081</td>\n",
       "      <td>1.362717</td>\n",
       "      <td>0.329573</td>\n",
       "    </tr>\n",
       "    <tr>\n",
       "      <th>2</th>\n",
       "      <td>-0.437749</td>\n",
       "      <td>-1.284605</td>\n",
       "      <td>-1.376499</td>\n",
       "      <td>-1.000283</td>\n",
       "      <td>0.975452</td>\n",
       "      <td>1.031376</td>\n",
       "      <td>-0.652662</td>\n",
       "      <td>3.034225</td>\n",
       "      <td>-0.860523</td>\n",
       "      <td>-0.887057</td>\n",
       "      <td>...</td>\n",
       "      <td>-0.799513</td>\n",
       "      <td>-0.523530</td>\n",
       "      <td>-0.558353</td>\n",
       "      <td>0.833328</td>\n",
       "      <td>-0.527656</td>\n",
       "      <td>1.409146</td>\n",
       "      <td>-0.54275</td>\n",
       "      <td>-0.524081</td>\n",
       "      <td>-0.733828</td>\n",
       "      <td>-3.034225</td>\n",
       "    </tr>\n",
       "    <tr>\n",
       "      <th>3</th>\n",
       "      <td>-0.437749</td>\n",
       "      <td>-1.161766</td>\n",
       "      <td>0.177346</td>\n",
       "      <td>-0.905497</td>\n",
       "      <td>0.975452</td>\n",
       "      <td>-0.969579</td>\n",
       "      <td>-0.652662</td>\n",
       "      <td>-0.329573</td>\n",
       "      <td>-0.860523</td>\n",
       "      <td>1.127324</td>\n",
       "      <td>...</td>\n",
       "      <td>-0.799513</td>\n",
       "      <td>-0.523530</td>\n",
       "      <td>-0.558353</td>\n",
       "      <td>0.833328</td>\n",
       "      <td>-0.527656</td>\n",
       "      <td>1.409146</td>\n",
       "      <td>-0.54275</td>\n",
       "      <td>-0.524081</td>\n",
       "      <td>-0.733828</td>\n",
       "      <td>0.329573</td>\n",
       "    </tr>\n",
       "    <tr>\n",
       "      <th>4</th>\n",
       "      <td>-0.437749</td>\n",
       "      <td>-1.325551</td>\n",
       "      <td>-0.098524</td>\n",
       "      <td>-1.010646</td>\n",
       "      <td>0.975452</td>\n",
       "      <td>-0.969579</td>\n",
       "      <td>1.532186</td>\n",
       "      <td>-0.329573</td>\n",
       "      <td>1.162083</td>\n",
       "      <td>-0.887057</td>\n",
       "      <td>...</td>\n",
       "      <td>-0.799513</td>\n",
       "      <td>-0.523530</td>\n",
       "      <td>1.790982</td>\n",
       "      <td>0.833328</td>\n",
       "      <td>-0.527656</td>\n",
       "      <td>-0.709650</td>\n",
       "      <td>-0.54275</td>\n",
       "      <td>-0.524081</td>\n",
       "      <td>1.362717</td>\n",
       "      <td>0.329573</td>\n",
       "    </tr>\n",
       "    <tr>\n",
       "      <th>...</th>\n",
       "      <td>...</td>\n",
       "      <td>...</td>\n",
       "      <td>...</td>\n",
       "      <td>...</td>\n",
       "      <td>...</td>\n",
       "      <td>...</td>\n",
       "      <td>...</td>\n",
       "      <td>...</td>\n",
       "      <td>...</td>\n",
       "      <td>...</td>\n",
       "      <td>...</td>\n",
       "      <td>...</td>\n",
       "      <td>...</td>\n",
       "      <td>...</td>\n",
       "      <td>...</td>\n",
       "      <td>...</td>\n",
       "      <td>...</td>\n",
       "      <td>...</td>\n",
       "      <td>...</td>\n",
       "      <td>...</td>\n",
       "      <td>...</td>\n",
       "    </tr>\n",
       "    <tr>\n",
       "      <th>5629</th>\n",
       "      <td>-0.437749</td>\n",
       "      <td>-1.284605</td>\n",
       "      <td>1.001632</td>\n",
       "      <td>-0.968666</td>\n",
       "      <td>0.975452</td>\n",
       "      <td>1.031376</td>\n",
       "      <td>-0.652662</td>\n",
       "      <td>-0.329573</td>\n",
       "      <td>-0.860523</td>\n",
       "      <td>1.127324</td>\n",
       "      <td>...</td>\n",
       "      <td>1.250762</td>\n",
       "      <td>-0.523530</td>\n",
       "      <td>-0.558353</td>\n",
       "      <td>0.833328</td>\n",
       "      <td>-0.527656</td>\n",
       "      <td>1.409146</td>\n",
       "      <td>-0.54275</td>\n",
       "      <td>-0.524081</td>\n",
       "      <td>-0.733828</td>\n",
       "      <td>0.329573</td>\n",
       "    </tr>\n",
       "    <tr>\n",
       "      <th>5630</th>\n",
       "      <td>-0.437749</td>\n",
       "      <td>-0.383791</td>\n",
       "      <td>0.872006</td>\n",
       "      <td>-0.039235</td>\n",
       "      <td>-1.025166</td>\n",
       "      <td>1.031376</td>\n",
       "      <td>1.532186</td>\n",
       "      <td>-0.329573</td>\n",
       "      <td>1.162083</td>\n",
       "      <td>-0.887057</td>\n",
       "      <td>...</td>\n",
       "      <td>1.250762</td>\n",
       "      <td>-0.523530</td>\n",
       "      <td>1.790982</td>\n",
       "      <td>0.833328</td>\n",
       "      <td>1.895175</td>\n",
       "      <td>-0.709650</td>\n",
       "      <td>-0.54275</td>\n",
       "      <td>-0.524081</td>\n",
       "      <td>1.362717</td>\n",
       "      <td>0.329573</td>\n",
       "    </tr>\n",
       "    <tr>\n",
       "      <th>5631</th>\n",
       "      <td>-0.437749</td>\n",
       "      <td>-0.834198</td>\n",
       "      <td>-1.452945</td>\n",
       "      <td>-0.875405</td>\n",
       "      <td>0.975452</td>\n",
       "      <td>1.031376</td>\n",
       "      <td>1.532186</td>\n",
       "      <td>-0.329573</td>\n",
       "      <td>-0.860523</td>\n",
       "      <td>-0.887057</td>\n",
       "      <td>...</td>\n",
       "      <td>-0.799513</td>\n",
       "      <td>-0.523530</td>\n",
       "      <td>-0.558353</td>\n",
       "      <td>0.833328</td>\n",
       "      <td>-0.527656</td>\n",
       "      <td>1.409146</td>\n",
       "      <td>-0.54275</td>\n",
       "      <td>1.908103</td>\n",
       "      <td>-0.733828</td>\n",
       "      <td>0.329573</td>\n",
       "    </tr>\n",
       "    <tr>\n",
       "      <th>5632</th>\n",
       "      <td>2.284413</td>\n",
       "      <td>-0.834198</td>\n",
       "      <td>1.149538</td>\n",
       "      <td>-0.480309</td>\n",
       "      <td>0.975452</td>\n",
       "      <td>-0.969579</td>\n",
       "      <td>-0.652662</td>\n",
       "      <td>-0.329573</td>\n",
       "      <td>1.162083</td>\n",
       "      <td>1.127324</td>\n",
       "      <td>...</td>\n",
       "      <td>1.250762</td>\n",
       "      <td>-0.523530</td>\n",
       "      <td>-0.558353</td>\n",
       "      <td>0.833328</td>\n",
       "      <td>-0.527656</td>\n",
       "      <td>1.409146</td>\n",
       "      <td>-0.54275</td>\n",
       "      <td>-0.524081</td>\n",
       "      <td>-0.733828</td>\n",
       "      <td>0.329573</td>\n",
       "    </tr>\n",
       "    <tr>\n",
       "      <th>5633</th>\n",
       "      <td>-0.437749</td>\n",
       "      <td>-0.260953</td>\n",
       "      <td>-1.497815</td>\n",
       "      <td>-0.808568</td>\n",
       "      <td>0.975452</td>\n",
       "      <td>-0.969579</td>\n",
       "      <td>-0.652662</td>\n",
       "      <td>-0.329573</td>\n",
       "      <td>-0.860523</td>\n",
       "      <td>-0.887057</td>\n",
       "      <td>...</td>\n",
       "      <td>-0.799513</td>\n",
       "      <td>1.910109</td>\n",
       "      <td>-0.558353</td>\n",
       "      <td>-1.200007</td>\n",
       "      <td>1.895175</td>\n",
       "      <td>-0.709650</td>\n",
       "      <td>-0.54275</td>\n",
       "      <td>1.908103</td>\n",
       "      <td>-0.733828</td>\n",
       "      <td>0.329573</td>\n",
       "    </tr>\n",
       "  </tbody>\n",
       "</table>\n",
       "<p>5634 rows × 30 columns</p>\n",
       "</div>"
      ],
      "text/plain": [
       "      SeniorCitizen    tenure  MonthlyCharges  TotalCharges  gender_M  \\\n",
       "0         -0.437749 -0.465683       -0.000474     -0.419925 -1.025166   \n",
       "1         -0.437749  0.885537        1.074754      1.256017 -1.025166   \n",
       "2         -0.437749 -1.284605       -1.376499     -1.000283  0.975452   \n",
       "3         -0.437749 -1.161766        0.177346     -0.905497  0.975452   \n",
       "4         -0.437749 -1.325551       -0.098524     -1.010646  0.975452   \n",
       "...             ...       ...             ...           ...       ...   \n",
       "5629      -0.437749 -1.284605        1.001632     -0.968666  0.975452   \n",
       "5630      -0.437749 -0.383791        0.872006     -0.039235 -1.025166   \n",
       "5631      -0.437749 -0.834198       -1.452945     -0.875405  0.975452   \n",
       "5632       2.284413 -0.834198        1.149538     -0.480309  0.975452   \n",
       "5633      -0.437749 -0.260953       -1.497815     -0.808568  0.975452   \n",
       "\n",
       "      Partner_Y  Dependents_Y  MultipleLines_Y  MultipleLines_NoPhoneservice  \\\n",
       "0     -0.969579      1.532186        -0.329573                     -0.860523   \n",
       "1     -0.969579     -0.652662        -0.329573                      1.162083   \n",
       "2      1.031376     -0.652662         3.034225                     -0.860523   \n",
       "3     -0.969579     -0.652662        -0.329573                     -0.860523   \n",
       "4     -0.969579      1.532186        -0.329573                      1.162083   \n",
       "...         ...           ...              ...                           ...   \n",
       "5629   1.031376     -0.652662        -0.329573                     -0.860523   \n",
       "5630   1.031376      1.532186        -0.329573                      1.162083   \n",
       "5631   1.031376      1.532186        -0.329573                     -0.860523   \n",
       "5632  -0.969579     -0.652662        -0.329573                      1.162083   \n",
       "5633  -0.969579     -0.652662        -0.329573                     -0.860523   \n",
       "\n",
       "      InternetService_DSL  ...  StreamingMovies_Noint  Contract_oneyr  \\\n",
       "0               -0.887057  ...               1.250762        1.910109   \n",
       "1                1.127324  ...               1.250762       -0.523530   \n",
       "2               -0.887057  ...              -0.799513       -0.523530   \n",
       "3                1.127324  ...              -0.799513       -0.523530   \n",
       "4               -0.887057  ...              -0.799513       -0.523530   \n",
       "...                   ...  ...                    ...             ...   \n",
       "5629             1.127324  ...               1.250762       -0.523530   \n",
       "5630            -0.887057  ...               1.250762       -0.523530   \n",
       "5631            -0.887057  ...              -0.799513       -0.523530   \n",
       "5632             1.127324  ...               1.250762       -0.523530   \n",
       "5633            -0.887057  ...              -0.799513        1.910109   \n",
       "\n",
       "      Contract_twoyr  PaperlessBilling_Y  PaymentMethod_mail  \\\n",
       "0          -0.558353           -1.200007           -0.527656   \n",
       "1           1.790982            0.833328           -0.527656   \n",
       "2          -0.558353            0.833328           -0.527656   \n",
       "3          -0.558353            0.833328           -0.527656   \n",
       "4           1.790982            0.833328           -0.527656   \n",
       "...              ...                 ...                 ...   \n",
       "5629       -0.558353            0.833328           -0.527656   \n",
       "5630        1.790982            0.833328            1.895175   \n",
       "5631       -0.558353            0.833328           -0.527656   \n",
       "5632       -0.558353            0.833328           -0.527656   \n",
       "5633       -0.558353           -1.200007            1.895175   \n",
       "\n",
       "      PaymentMethod_banktransfer  PaymentMethod_creditcard  OlineBackup_Y  \\\n",
       "0                      -0.709650                   1.84247      -0.524081   \n",
       "1                      -0.709650                  -0.54275      -0.524081   \n",
       "2                       1.409146                  -0.54275      -0.524081   \n",
       "3                       1.409146                  -0.54275      -0.524081   \n",
       "4                      -0.709650                  -0.54275      -0.524081   \n",
       "...                          ...                       ...            ...   \n",
       "5629                    1.409146                  -0.54275      -0.524081   \n",
       "5630                   -0.709650                  -0.54275      -0.524081   \n",
       "5631                    1.409146                  -0.54275       1.908103   \n",
       "5632                    1.409146                  -0.54275      -0.524081   \n",
       "5633                   -0.709650                  -0.54275       1.908103   \n",
       "\n",
       "      onlinebackup_noint  PhoneService_y  \n",
       "0              -0.733828        0.329573  \n",
       "1               1.362717        0.329573  \n",
       "2              -0.733828       -3.034225  \n",
       "3              -0.733828        0.329573  \n",
       "4               1.362717        0.329573  \n",
       "...                  ...             ...  \n",
       "5629           -0.733828        0.329573  \n",
       "5630            1.362717        0.329573  \n",
       "5631           -0.733828        0.329573  \n",
       "5632           -0.733828        0.329573  \n",
       "5633           -0.733828        0.329573  \n",
       "\n",
       "[5634 rows x 30 columns]"
      ]
     },
     "execution_count": 129,
     "metadata": {},
     "output_type": "execute_result"
    }
   ],
   "source": [
    "xtrain_sdf"
   ]
  },
  {
   "cell_type": "code",
   "execution_count": 131,
   "id": "dee1b42f",
   "metadata": {},
   "outputs": [],
   "source": [
    "x_test_sdf=pd.DataFrame(xtest_scale,columns=['SeniorCitizen', 'tenure', 'MonthlyCharges', 'TotalCharges', 'gender_M',\n",
    "       'Partner_Y', 'Dependents_Y', 'MultipleLines_Y',\n",
    "       'MultipleLines_NoPhoneservice', 'InternetService_DSL',\n",
    "       'InternetService_No', 'OnlineSecurity_Y', 'OnlineSecurity_Noint',\n",
    "       'DeviceProtection_Y', 'DeviceProtection_int', 'TechSupport_Y',\n",
    "       'TechSupport_NoINT', 'StreamingTV_Y', 'StreamingTV_NoINT',\n",
    "       'StreamingMovies_Y', 'StreamingMovies_Noint', 'Contract_oneyr',\n",
    "       'Contract_twoyr', 'PaperlessBilling_Y', 'PaymentMethod_mail',\n",
    "       'PaymentMethod_banktransfer', 'PaymentMethod_creditcard',\n",
    "       'OlineBackup_Y', 'onlinebackup_noint', 'PhoneService_y'])"
   ]
  },
  {
   "cell_type": "code",
   "execution_count": 132,
   "id": "e44dc547",
   "metadata": {},
   "outputs": [
    {
     "data": {
      "text/html": [
       "<div>\n",
       "<style scoped>\n",
       "    .dataframe tbody tr th:only-of-type {\n",
       "        vertical-align: middle;\n",
       "    }\n",
       "\n",
       "    .dataframe tbody tr th {\n",
       "        vertical-align: top;\n",
       "    }\n",
       "\n",
       "    .dataframe thead th {\n",
       "        text-align: right;\n",
       "    }\n",
       "</style>\n",
       "<table border=\"1\" class=\"dataframe\">\n",
       "  <thead>\n",
       "    <tr style=\"text-align: right;\">\n",
       "      <th></th>\n",
       "      <th>SeniorCitizen</th>\n",
       "      <th>tenure</th>\n",
       "      <th>MonthlyCharges</th>\n",
       "      <th>TotalCharges</th>\n",
       "      <th>gender_M</th>\n",
       "      <th>Partner_Y</th>\n",
       "      <th>Dependents_Y</th>\n",
       "      <th>MultipleLines_Y</th>\n",
       "      <th>MultipleLines_NoPhoneservice</th>\n",
       "      <th>InternetService_DSL</th>\n",
       "      <th>...</th>\n",
       "      <th>StreamingMovies_Noint</th>\n",
       "      <th>Contract_oneyr</th>\n",
       "      <th>Contract_twoyr</th>\n",
       "      <th>PaperlessBilling_Y</th>\n",
       "      <th>PaymentMethod_mail</th>\n",
       "      <th>PaymentMethod_banktransfer</th>\n",
       "      <th>PaymentMethod_creditcard</th>\n",
       "      <th>OlineBackup_Y</th>\n",
       "      <th>onlinebackup_noint</th>\n",
       "      <th>PhoneService_y</th>\n",
       "    </tr>\n",
       "  </thead>\n",
       "  <tbody>\n",
       "    <tr>\n",
       "      <th>0</th>\n",
       "      <td>-0.448546</td>\n",
       "      <td>-1.249950</td>\n",
       "      <td>-1.314468</td>\n",
       "      <td>-0.975733</td>\n",
       "      <td>-0.949465</td>\n",
       "      <td>1.047247</td>\n",
       "      <td>-0.659414</td>\n",
       "      <td>3.136632</td>\n",
       "      <td>-0.829111</td>\n",
       "      <td>-0.880090</td>\n",
       "      <td>...</td>\n",
       "      <td>-0.782386</td>\n",
       "      <td>-0.476814</td>\n",
       "      <td>-0.581448</td>\n",
       "      <td>0.815772</td>\n",
       "      <td>-0.514598</td>\n",
       "      <td>1.395600</td>\n",
       "      <td>-0.553027</td>\n",
       "      <td>-0.533303</td>\n",
       "      <td>-0.692851</td>\n",
       "      <td>-3.136632</td>\n",
       "    </tr>\n",
       "    <tr>\n",
       "      <th>1</th>\n",
       "      <td>-0.448546</td>\n",
       "      <td>0.344202</td>\n",
       "      <td>-1.299512</td>\n",
       "      <td>-0.549735</td>\n",
       "      <td>1.053224</td>\n",
       "      <td>-0.954885</td>\n",
       "      <td>-0.659414</td>\n",
       "      <td>-0.318813</td>\n",
       "      <td>1.206111</td>\n",
       "      <td>-0.880090</td>\n",
       "      <td>...</td>\n",
       "      <td>-0.782386</td>\n",
       "      <td>-0.476814</td>\n",
       "      <td>-0.581448</td>\n",
       "      <td>0.815772</td>\n",
       "      <td>-0.514598</td>\n",
       "      <td>-0.716538</td>\n",
       "      <td>-0.553027</td>\n",
       "      <td>1.875107</td>\n",
       "      <td>-0.692851</td>\n",
       "      <td>0.318813</td>\n",
       "    </tr>\n",
       "    <tr>\n",
       "      <th>2</th>\n",
       "      <td>-0.448546</td>\n",
       "      <td>0.782594</td>\n",
       "      <td>-1.495594</td>\n",
       "      <td>-0.534281</td>\n",
       "      <td>-0.949465</td>\n",
       "      <td>1.047247</td>\n",
       "      <td>1.516498</td>\n",
       "      <td>-0.318813</td>\n",
       "      <td>-0.829111</td>\n",
       "      <td>-0.880090</td>\n",
       "      <td>...</td>\n",
       "      <td>-0.782386</td>\n",
       "      <td>-0.476814</td>\n",
       "      <td>1.719845</td>\n",
       "      <td>-1.225832</td>\n",
       "      <td>-0.514598</td>\n",
       "      <td>-0.716538</td>\n",
       "      <td>1.808230</td>\n",
       "      <td>1.875107</td>\n",
       "      <td>-0.692851</td>\n",
       "      <td>0.318813</td>\n",
       "    </tr>\n",
       "    <tr>\n",
       "      <th>3</th>\n",
       "      <td>-0.448546</td>\n",
       "      <td>-1.249950</td>\n",
       "      <td>0.398758</td>\n",
       "      <td>-0.953132</td>\n",
       "      <td>-0.949465</td>\n",
       "      <td>-0.954885</td>\n",
       "      <td>-0.659414</td>\n",
       "      <td>-0.318813</td>\n",
       "      <td>-0.829111</td>\n",
       "      <td>1.136247</td>\n",
       "      <td>...</td>\n",
       "      <td>-0.782386</td>\n",
       "      <td>-0.476814</td>\n",
       "      <td>-0.581448</td>\n",
       "      <td>-1.225832</td>\n",
       "      <td>-0.514598</td>\n",
       "      <td>1.395600</td>\n",
       "      <td>-0.553027</td>\n",
       "      <td>-0.533303</td>\n",
       "      <td>-0.692851</td>\n",
       "      <td>0.318813</td>\n",
       "    </tr>\n",
       "    <tr>\n",
       "      <th>4</th>\n",
       "      <td>-0.448546</td>\n",
       "      <td>1.380401</td>\n",
       "      <td>-0.458686</td>\n",
       "      <td>0.442711</td>\n",
       "      <td>1.053224</td>\n",
       "      <td>-0.954885</td>\n",
       "      <td>-0.659414</td>\n",
       "      <td>-0.318813</td>\n",
       "      <td>-0.829111</td>\n",
       "      <td>-0.880090</td>\n",
       "      <td>...</td>\n",
       "      <td>-0.782386</td>\n",
       "      <td>-0.476814</td>\n",
       "      <td>1.719845</td>\n",
       "      <td>-1.225832</td>\n",
       "      <td>-0.514598</td>\n",
       "      <td>-0.716538</td>\n",
       "      <td>-0.553027</td>\n",
       "      <td>-0.533303</td>\n",
       "      <td>-0.692851</td>\n",
       "      <td>0.318813</td>\n",
       "    </tr>\n",
       "    <tr>\n",
       "      <th>...</th>\n",
       "      <td>...</td>\n",
       "      <td>...</td>\n",
       "      <td>...</td>\n",
       "      <td>...</td>\n",
       "      <td>...</td>\n",
       "      <td>...</td>\n",
       "      <td>...</td>\n",
       "      <td>...</td>\n",
       "      <td>...</td>\n",
       "      <td>...</td>\n",
       "      <td>...</td>\n",
       "      <td>...</td>\n",
       "      <td>...</td>\n",
       "      <td>...</td>\n",
       "      <td>...</td>\n",
       "      <td>...</td>\n",
       "      <td>...</td>\n",
       "      <td>...</td>\n",
       "      <td>...</td>\n",
       "      <td>...</td>\n",
       "      <td>...</td>\n",
       "    </tr>\n",
       "    <tr>\n",
       "      <th>1404</th>\n",
       "      <td>-0.448546</td>\n",
       "      <td>1.260840</td>\n",
       "      <td>0.131222</td>\n",
       "      <td>0.933179</td>\n",
       "      <td>-0.949465</td>\n",
       "      <td>1.047247</td>\n",
       "      <td>-0.659414</td>\n",
       "      <td>-0.318813</td>\n",
       "      <td>-0.829111</td>\n",
       "      <td>-0.880090</td>\n",
       "      <td>...</td>\n",
       "      <td>1.278141</td>\n",
       "      <td>-0.476814</td>\n",
       "      <td>1.719845</td>\n",
       "      <td>0.815772</td>\n",
       "      <td>-0.514598</td>\n",
       "      <td>-0.716538</td>\n",
       "      <td>1.808230</td>\n",
       "      <td>-0.533303</td>\n",
       "      <td>1.443313</td>\n",
       "      <td>0.318813</td>\n",
       "    </tr>\n",
       "    <tr>\n",
       "      <th>1405</th>\n",
       "      <td>-0.448546</td>\n",
       "      <td>0.742740</td>\n",
       "      <td>1.518752</td>\n",
       "      <td>1.506467</td>\n",
       "      <td>1.053224</td>\n",
       "      <td>1.047247</td>\n",
       "      <td>1.516498</td>\n",
       "      <td>-0.318813</td>\n",
       "      <td>1.206111</td>\n",
       "      <td>1.136247</td>\n",
       "      <td>...</td>\n",
       "      <td>1.278141</td>\n",
       "      <td>2.097252</td>\n",
       "      <td>-0.581448</td>\n",
       "      <td>-1.225832</td>\n",
       "      <td>1.943263</td>\n",
       "      <td>-0.716538</td>\n",
       "      <td>-0.553027</td>\n",
       "      <td>-0.533303</td>\n",
       "      <td>1.443313</td>\n",
       "      <td>0.318813</td>\n",
       "    </tr>\n",
       "    <tr>\n",
       "      <th>1406</th>\n",
       "      <td>-0.448546</td>\n",
       "      <td>-0.612289</td>\n",
       "      <td>-1.477315</td>\n",
       "      <td>-0.842035</td>\n",
       "      <td>1.053224</td>\n",
       "      <td>1.047247</td>\n",
       "      <td>1.516498</td>\n",
       "      <td>-0.318813</td>\n",
       "      <td>-0.829111</td>\n",
       "      <td>-0.880090</td>\n",
       "      <td>...</td>\n",
       "      <td>-0.782386</td>\n",
       "      <td>2.097252</td>\n",
       "      <td>-0.581448</td>\n",
       "      <td>-1.225832</td>\n",
       "      <td>-0.514598</td>\n",
       "      <td>-0.716538</td>\n",
       "      <td>-0.553027</td>\n",
       "      <td>1.875107</td>\n",
       "      <td>-0.692851</td>\n",
       "      <td>0.318813</td>\n",
       "    </tr>\n",
       "    <tr>\n",
       "      <th>1407</th>\n",
       "      <td>-0.448546</td>\n",
       "      <td>1.460108</td>\n",
       "      <td>-0.678032</td>\n",
       "      <td>0.311183</td>\n",
       "      <td>-0.949465</td>\n",
       "      <td>1.047247</td>\n",
       "      <td>1.516498</td>\n",
       "      <td>3.136632</td>\n",
       "      <td>-0.829111</td>\n",
       "      <td>-0.880090</td>\n",
       "      <td>...</td>\n",
       "      <td>1.278141</td>\n",
       "      <td>-0.476814</td>\n",
       "      <td>1.719845</td>\n",
       "      <td>0.815772</td>\n",
       "      <td>1.943263</td>\n",
       "      <td>-0.716538</td>\n",
       "      <td>-0.553027</td>\n",
       "      <td>-0.533303</td>\n",
       "      <td>-0.692851</td>\n",
       "      <td>-3.136632</td>\n",
       "    </tr>\n",
       "    <tr>\n",
       "      <th>1408</th>\n",
       "      <td>-0.448546</td>\n",
       "      <td>-1.249950</td>\n",
       "      <td>-1.096783</td>\n",
       "      <td>-0.972862</td>\n",
       "      <td>1.053224</td>\n",
       "      <td>-0.954885</td>\n",
       "      <td>1.516498</td>\n",
       "      <td>3.136632</td>\n",
       "      <td>-0.829111</td>\n",
       "      <td>-0.880090</td>\n",
       "      <td>...</td>\n",
       "      <td>-0.782386</td>\n",
       "      <td>-0.476814</td>\n",
       "      <td>-0.581448</td>\n",
       "      <td>0.815772</td>\n",
       "      <td>-0.514598</td>\n",
       "      <td>-0.716538</td>\n",
       "      <td>1.808230</td>\n",
       "      <td>-0.533303</td>\n",
       "      <td>1.443313</td>\n",
       "      <td>-3.136632</td>\n",
       "    </tr>\n",
       "  </tbody>\n",
       "</table>\n",
       "<p>1409 rows × 30 columns</p>\n",
       "</div>"
      ],
      "text/plain": [
       "      SeniorCitizen    tenure  MonthlyCharges  TotalCharges  gender_M  \\\n",
       "0         -0.448546 -1.249950       -1.314468     -0.975733 -0.949465   \n",
       "1         -0.448546  0.344202       -1.299512     -0.549735  1.053224   \n",
       "2         -0.448546  0.782594       -1.495594     -0.534281 -0.949465   \n",
       "3         -0.448546 -1.249950        0.398758     -0.953132 -0.949465   \n",
       "4         -0.448546  1.380401       -0.458686      0.442711  1.053224   \n",
       "...             ...       ...             ...           ...       ...   \n",
       "1404      -0.448546  1.260840        0.131222      0.933179 -0.949465   \n",
       "1405      -0.448546  0.742740        1.518752      1.506467  1.053224   \n",
       "1406      -0.448546 -0.612289       -1.477315     -0.842035  1.053224   \n",
       "1407      -0.448546  1.460108       -0.678032      0.311183 -0.949465   \n",
       "1408      -0.448546 -1.249950       -1.096783     -0.972862  1.053224   \n",
       "\n",
       "      Partner_Y  Dependents_Y  MultipleLines_Y  MultipleLines_NoPhoneservice  \\\n",
       "0      1.047247     -0.659414         3.136632                     -0.829111   \n",
       "1     -0.954885     -0.659414        -0.318813                      1.206111   \n",
       "2      1.047247      1.516498        -0.318813                     -0.829111   \n",
       "3     -0.954885     -0.659414        -0.318813                     -0.829111   \n",
       "4     -0.954885     -0.659414        -0.318813                     -0.829111   \n",
       "...         ...           ...              ...                           ...   \n",
       "1404   1.047247     -0.659414        -0.318813                     -0.829111   \n",
       "1405   1.047247      1.516498        -0.318813                      1.206111   \n",
       "1406   1.047247      1.516498        -0.318813                     -0.829111   \n",
       "1407   1.047247      1.516498         3.136632                     -0.829111   \n",
       "1408  -0.954885      1.516498         3.136632                     -0.829111   \n",
       "\n",
       "      InternetService_DSL  ...  StreamingMovies_Noint  Contract_oneyr  \\\n",
       "0               -0.880090  ...              -0.782386       -0.476814   \n",
       "1               -0.880090  ...              -0.782386       -0.476814   \n",
       "2               -0.880090  ...              -0.782386       -0.476814   \n",
       "3                1.136247  ...              -0.782386       -0.476814   \n",
       "4               -0.880090  ...              -0.782386       -0.476814   \n",
       "...                   ...  ...                    ...             ...   \n",
       "1404            -0.880090  ...               1.278141       -0.476814   \n",
       "1405             1.136247  ...               1.278141        2.097252   \n",
       "1406            -0.880090  ...              -0.782386        2.097252   \n",
       "1407            -0.880090  ...               1.278141       -0.476814   \n",
       "1408            -0.880090  ...              -0.782386       -0.476814   \n",
       "\n",
       "      Contract_twoyr  PaperlessBilling_Y  PaymentMethod_mail  \\\n",
       "0          -0.581448            0.815772           -0.514598   \n",
       "1          -0.581448            0.815772           -0.514598   \n",
       "2           1.719845           -1.225832           -0.514598   \n",
       "3          -0.581448           -1.225832           -0.514598   \n",
       "4           1.719845           -1.225832           -0.514598   \n",
       "...              ...                 ...                 ...   \n",
       "1404        1.719845            0.815772           -0.514598   \n",
       "1405       -0.581448           -1.225832            1.943263   \n",
       "1406       -0.581448           -1.225832           -0.514598   \n",
       "1407        1.719845            0.815772            1.943263   \n",
       "1408       -0.581448            0.815772           -0.514598   \n",
       "\n",
       "      PaymentMethod_banktransfer  PaymentMethod_creditcard  OlineBackup_Y  \\\n",
       "0                       1.395600                 -0.553027      -0.533303   \n",
       "1                      -0.716538                 -0.553027       1.875107   \n",
       "2                      -0.716538                  1.808230       1.875107   \n",
       "3                       1.395600                 -0.553027      -0.533303   \n",
       "4                      -0.716538                 -0.553027      -0.533303   \n",
       "...                          ...                       ...            ...   \n",
       "1404                   -0.716538                  1.808230      -0.533303   \n",
       "1405                   -0.716538                 -0.553027      -0.533303   \n",
       "1406                   -0.716538                 -0.553027       1.875107   \n",
       "1407                   -0.716538                 -0.553027      -0.533303   \n",
       "1408                   -0.716538                  1.808230      -0.533303   \n",
       "\n",
       "      onlinebackup_noint  PhoneService_y  \n",
       "0              -0.692851       -3.136632  \n",
       "1              -0.692851        0.318813  \n",
       "2              -0.692851        0.318813  \n",
       "3              -0.692851        0.318813  \n",
       "4              -0.692851        0.318813  \n",
       "...                  ...             ...  \n",
       "1404            1.443313        0.318813  \n",
       "1405            1.443313        0.318813  \n",
       "1406           -0.692851        0.318813  \n",
       "1407           -0.692851       -3.136632  \n",
       "1408            1.443313       -3.136632  \n",
       "\n",
       "[1409 rows x 30 columns]"
      ]
     },
     "execution_count": 132,
     "metadata": {},
     "output_type": "execute_result"
    }
   ],
   "source": [
    "x_test_sdf"
   ]
  },
  {
   "cell_type": "markdown",
   "id": "56d9c90e",
   "metadata": {},
   "source": [
    "### Model Builduing"
   ]
  },
  {
   "cell_type": "code",
   "execution_count": null,
   "id": "95f04565",
   "metadata": {},
   "outputs": [],
   "source": []
  }
 ],
 "metadata": {
  "kernelspec": {
   "display_name": "Python 3 (ipykernel)",
   "language": "python",
   "name": "python3"
  },
  "language_info": {
   "codemirror_mode": {
    "name": "ipython",
    "version": 3
   },
   "file_extension": ".py",
   "mimetype": "text/x-python",
   "name": "python",
   "nbconvert_exporter": "python",
   "pygments_lexer": "ipython3",
   "version": "3.9.7"
  }
 },
 "nbformat": 4,
 "nbformat_minor": 5
}
